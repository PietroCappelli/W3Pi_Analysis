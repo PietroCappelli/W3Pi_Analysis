{
 "cells": [
  {
   "cell_type": "code",
   "execution_count": 1,
   "metadata": {},
   "outputs": [],
   "source": [
    "#include \"ROOT/RDataFrame.hxx\"\n",
    "#include \"ROOT/RVec.hxx\"\n",
    "#include <ROOT/RLogger.hxx>\n",
    "#include \"TCanvas.h\"\n",
    "#include \"TFile.h\"\n",
    "#include \"TH1D.h\"\n",
    "#include \"TF1.h\"\n",
    "#include \"TMath.h\"\n",
    "#include \"THStack.h\"\n",
    "#include \"TLegend.h\"\n",
    "#include \"Math/Vector4D.h\"\n",
    "#include <TTreeReader.h>\n",
    "#include <TTreeReaderArray.h>\n",
    "#include \"ROOT/RDataFrame.hxx\"\n",
    "#include \"ROOT/RNTupleDS.hxx\"\n",
    "#include \"ROOT/RVec.hxx\"\n",
    "#include <ROOT/RLogger.hxx>\n",
    "\n",
    "//cpp\n",
    "#include <vector>\n",
    "#include <iostream>\n",
    "#include <fstream>\n",
    "#include <iomanip>\n",
    "#include <cstdlib>\n",
    "#include <cstdio>\n",
    "#include <string>\n",
    "#include <Math/GenVector/LorentzVector.h>\n",
    "#include <Math/GenVector/PtEtaPhiM4D.h>\n",
    "#include <stdlib.h>\n",
    "#include <math.h>\n",
    "#include <TH1.h>\n",
    "\n",
    "template <typename T> using Vec = ROOT::RVec<T>; "
   ]
  },
  {
   "cell_type": "code",
   "execution_count": 5,
   "metadata": {},
   "outputs": [
    {
     "name": "stdout",
     "output_type": "stream",
     "text": [
      "{ 1, 0, 3, 0, 1, 0, 4, 0, 5, 0, 1, 0, 2, 0, 6, 0, 2, 0, 4, 0, 0, 0, 0, 0, 7, 0 }"
     ]
    }
   ],
   "source": [
    "auto quality = df.Take<ROOT::VecOps::RVec<UChar_t>>(\"Puppi_quality\").GetValue();\n",
    "std::cout << quality[0];"
   ]
  },
  {
   "cell_type": "code",
   "execution_count": 1,
   "metadata": {},
   "outputs": [
    {
     "name": "stdout",
     "output_type": "stream",
     "text": [
      "entries= 594000\n",
      "(ROOT::RDF::RDFDescription) Dataframe from TChain Events in file tree-raw.root\n",
      "\n",
      "Property                Value\n",
      "--------                -----\n",
      "Columns in total           14\n",
      "Columns from defines        0\n",
      "Event loops run             1\n",
      "Processing slots            1\n",
      "\n",
      "Column          Type                            Origin\n",
      "------          ----                            ------\n",
      "Puppi_dxy       ROOT::VecOps::RVec<Float_t>     Dataset\n",
      "Puppi_eta       ROOT::VecOps::RVec<Float_t>     Dataset\n",
      "Puppi_id        ROOT::VecOps::RVec<UChar_t>     Dataset\n",
      "Puppi_pdgId     ROOT::VecOps::RVec<Short_t>     Dataset\n",
      "Puppi_phi       ROOT::VecOps::RVec<Float_t>     Dataset\n",
      "Puppi_pt        ROOT::VecOps::RVec<Float_t>     Dataset\n",
      "Puppi_quality   ROOT::VecOps::RVec<UChar_t>     Dataset\n",
      "Puppi_wpuppi    ROOT::VecOps::RVec<Float_t>     Dataset\n",
      "Puppi_z0        ROOT::VecOps::RVec<Float_t>     Dataset\n",
      "bx              UShort_t                        Dataset\n",
      "good            Bool_t                          Dataset\n",
      "nPuppi          UShort_t                        Dataset\n",
      "orbit           UInt_t                          Dataset\n",
      "run             UShort_t                        Dataset\n"
     ]
    }
   ],
   "source": [
    "ROOT::RDataFrame df(\"Events\",\"tree-raw.root\");\n",
    "std::cout << \"entries= \" << *df.Count() << std::endl;\n",
    "df.Describe()"
   ]
  },
  {
   "cell_type": "markdown",
   "metadata": {},
   "source": [
    "## Puppi Distribution"
   ]
  },
  {
   "cell_type": "code",
   "execution_count": 6,
   "metadata": {},
   "outputs": [
    {
     "data": {
      "image/png": "[encoded data removed]",
      "text/plain": [
       "<IPython.core.display.Image object>"
      ]
     },
     "metadata": {},
     "output_type": "display_data"
    },
    {
     "name": "stderr",
     "output_type": "stream",
     "text": [
      "Warning in <TROOT::Append>: Replacing existing TH1: hist (Potential memory leak).\n",
      "Warning in <TCanvas::Constructor>: Deleting canvas with same name: c1\n"
     ]
    }
   ],
   "source": [
    "auto gen_pt   = df.Take<ROOT::VecOps::RVec<Float_t>>(\"Puppi_pt\").GetValue();\n",
    "std::vector<double> pts;\n",
    "\n",
    "for (const auto& pti : gen_pt) {\n",
    "    pts.insert(pts.end(), pti.begin(), pti.end());\n",
    "}\n",
    "int i=0;\n",
    "TH1F* hist_genpt = new TH1F(\"hist\", \"L1Puppi pt; pion pt (GeV)\", 180, 2, 50); //GeV\n",
    "for (const auto &p : pts){\n",
    "    hist_genpt->Fill(p);\n",
    "    i++;\n",
    "}\n",
    "\n",
    "auto c1 = new TCanvas(\"c1\", \"c1\", 800,600);\n",
    "hist_genpt->Draw();\n",
    "// c1->SetLogy();\n",
    "c1->Draw();\n"
   ]
  },
  {
   "cell_type": "markdown",
   "metadata": {},
   "source": [
    "## Events distribution"
   ]
  },
  {
   "cell_type": "code",
   "execution_count": 7,
   "metadata": {},
   "outputs": [
    {
     "data": {
      "image/png": "[encoded data removed]",
      "text/plain": [
       "<IPython.core.display.Image object>"
      ]
     },
     "metadata": {},
     "output_type": "display_data"
    },
    {
     "name": "stderr",
     "output_type": "stream",
     "text": [
      "Warning in <TCanvas::Constructor>: Deleting canvas with same name: c1\n",
      "Warning in <TROOT::Append>: Replacing existing TH1: hist (Potential memory leak).\n"
     ]
    }
   ],
   "source": [
    "auto np = df.Take<UShort_t>(\"nPuppi\").GetValue();\n",
    "auto c1 = new TCanvas(\"c1\", \"c1\", 800,600);\n",
    "\n",
    "TH1F* hist_n = new TH1F(\"hist\", \"Simulated n; \", 100, 0, 100); //GeV\n",
    "for (const auto &n : np){\n",
    "    hist_n->Fill(n);\n",
    "}\n",
    "hist_n -> SetLineColor(kAzure+2);\n",
    "hist_n -> SetLineWidth(2);\n",
    "\n",
    "hist_n->Draw();\n",
    "c1->Draw();"
   ]
  },
  {
   "cell_type": "code",
   "execution_count": 8,
   "metadata": {},
   "outputs": [
    {
     "name": "stdout",
     "output_type": "stream",
     "text": [
      "(unsigned short) 26\n"
     ]
    }
   ],
   "source": [
    "np[0]"
   ]
  },
  {
   "cell_type": "code",
   "execution_count": null,
   "metadata": {},
   "outputs": [],
   "source": []
  },
  {
   "cell_type": "markdown",
   "metadata": {},
   "source": [
    "## Compare trees"
   ]
  },
  {
   "cell_type": "code",
   "execution_count": 9,
   "metadata": {},
   "outputs": [
    {
     "name": "stdout",
     "output_type": "stream",
     "text": [
      "entries df1 = 594000\n",
      "entries df2 = 594000\n"
     ]
    }
   ],
   "source": [
    "ROOT::RDataFrame df1(\"Events\",\"tree1.root\");\n",
    "std::cout << \"entries df1 = \" << *df1.Count() << std::endl;\n",
    "\n",
    "ROOT::RDataFrame df2(\"Events\",\"tree2.root\");\n",
    "std::cout << \"entries df2 = \" << *df2.Count() << std::endl;"
   ]
  },
  {
   "cell_type": "code",
   "execution_count": 14,
   "metadata": {},
   "outputs": [
    {
     "data": {
      "image/png": "[encoded data removed]",
      "text/plain": [
       "<IPython.core.display.Image object>"
      ]
     },
     "metadata": {},
     "output_type": "display_data"
    },
    {
     "name": "stderr",
     "output_type": "stream",
     "text": [
      "Warning in <TCanvas::Constructor>: Deleting canvas with same name: c1\n",
      "Warning in <TROOT::Append>: Replacing existing TH1: hist (Potential memory leak).\n",
      "Warning in <TROOT::Append>: Replacing existing TH1: hist (Potential memory leak).\n"
     ]
    }
   ],
   "source": [
    "auto n1 = df1.Take<UShort_t>(\"nPuppi\").GetValue();\n",
    "auto n2 = df2.Take<UShort_t>(\"nPuppi\").GetValue();\n",
    "auto c1 = new TCanvas(\"c1\", \"c1\", 800,600);\n",
    "\n",
    "TH1F* hist_n1 = new TH1F(\"hist\", \"Simulated n; \", 100, 0, 100); //GeV\n",
    "for (const auto &n : n1){\n",
    "    hist_n1->Fill(n);\n",
    "}\n",
    "TH1F* hist_n2 = new TH1F(\"hist\", \"Simulated n; \", 100, 0, 100); //GeV\n",
    "for (const auto &nn : n2){\n",
    "    hist_n2->Fill(nn);\n",
    "}\n",
    "\n",
    "hist_n1 -> SetLineColor(kAzure+2);\n",
    "hist_n1 -> SetLineWidth(2);\n",
    "\n",
    "hist_n2 -> SetLineColor(kOrange+2);\n",
    "hist_n2 -> SetLineWidth(2);\n",
    "\n",
    "hist_n -> SetLineColor(kRed+2);\n",
    "hist_n -> SetLineWidth(2);\n",
    "\n",
    "hist_n1->Draw();\n",
    "hist_n2->Draw(\"same\");\n",
    "hist_n->Draw(\"same\");\n",
    "c1->Draw();"
   ]
  },
  {
   "cell_type": "markdown",
   "metadata": {},
   "source": [
    "## Read RNTuple"
   ]
  },
  {
   "cell_type": "code",
   "execution_count": 7,
   "metadata": {},
   "outputs": [
    {
     "name": "stdout",
     "output_type": "stream",
     "text": [
      "Dataframe from datasource RNTupleDS\n",
      "\n",
      "Property                Value\n",
      "--------                -----\n",
      "Columns in total           12\n",
      "Columns from defines        0\n",
      "Event loops run             0\n",
      "Processing slots            1\n",
      "\n",
      "Column          Type                                    Origin\n",
      "------          ----                                    ------\n",
      "Puppi.dxy       ROOT::VecOps::RVec<float>               Dataset\n",
      "Puppi.eta       ROOT::VecOps::RVec<float>               Dataset\n",
      "Puppi.pdgId     ROOT::VecOps::RVec<std::int16_t>        Dataset\n",
      "Puppi.phi       ROOT::VecOps::RVec<float>               Dataset\n",
      "Puppi.pt        ROOT::VecOps::RVec<float>               Dataset\n",
      "Puppi.quality   ROOT::VecOps::RVec<std::uint16_t>       Dataset\n",
      "Puppi.wpuppi    ROOT::VecOps::RVec<float>               Dataset\n",
      "Puppi.z0        ROOT::VecOps::RVec<float>               Dataset\n",
      "bx              std::uint16_t                           Dataset\n",
      "good            bool                                    Dataset\n",
      "orbit           std::uint32_t                           Dataset\n",
      "run             std::uint16_t                           Dataset"
     ]
    },
    {
     "name": "stderr",
     "output_type": "stream",
     "text": [
      "Warning in <[ROOT.NTuple] Warning /home/conda/feedstock_root/build_artifacts/root_base_1679383249393/work/root-source/tree/ntuple/v7/src/RNTupleSerialize.cxx:1148 in static ROOT::Experimental::RResult<void> ROOT::Experimental::Internal::RNTupleSerializer::DeserializeHeaderV1(const void*, uint32_t, ROOT::Experimental::RNTupleDescriptorBuilder&)>: Pre-release format version: RC 1\n"
     ]
    }
   ],
   "source": [
    "ROOT::RDataFrame drn = ROOT::RDF::Experimental::FromRNTuple(\"Events\", \"RNTuple.root\");\n",
    "drn.Describe().Print()"
   ]
  },
  {
   "cell_type": "code",
   "execution_count": 8,
   "metadata": {},
   "outputs": [
    {
     "name": "stdout",
     "output_type": "stream",
     "text": [
      "(unsigned long long) 59400\n"
     ]
    }
   ],
   "source": [
    "*drn.Count()"
   ]
  },
  {
   "cell_type": "markdown",
   "metadata": {},
   "source": [
    "## Read Snapshot"
   ]
  },
  {
   "cell_type": "code",
   "execution_count": 2,
   "metadata": {},
   "outputs": [
    {
     "name": "stdout",
     "output_type": "stream",
     "text": [
      "(ROOT::RDF::RDFDescription) Dataframe from TChain Events in file snapshot.root\n",
      "\n",
      "Property                Value\n",
      "--------                -----\n",
      "Columns in total           15\n",
      "Columns from defines        0\n",
      "Event loops run             0\n",
      "Processing slots            1\n",
      "\n",
      "Column          Type                                    Origin\n",
      "------          ----                                    ------\n",
      "Puppi_dxy       ROOT::VecOps::RVec<Float_t>             Dataset\n",
      "Puppi_eta       ROOT::VecOps::RVec<Float_t>             Dataset\n",
      "Puppi_pdgId     ROOT::VecOps::RVec<Short_t>             Dataset\n",
      "Puppi_phi       ROOT::VecOps::RVec<Float_t>             Dataset\n",
      "Puppi_pt        ROOT::VecOps::RVec<Float_t>             Dataset\n",
      "Puppi_quality   ROOT::VecOps::RVec<UChar_t>             Dataset\n",
      "Puppi_wpuppi    ROOT::VecOps::RVec<Float_t>             Dataset\n",
      "Puppi_z0        ROOT::VecOps::RVec<Float_t>             Dataset\n",
      "Triplet_Index   ROOT::VecOps::RVec<unsigned int>        Dataset\n",
      "Triplet_invmass Float_t                                 Dataset\n",
      "bx              UShort_t                                Dataset\n",
      "good            Bool_t                                  Dataset\n",
      "nPuppi          UShort_t                                Dataset\n",
      "orbit           UInt_t                                  Dataset\n",
      "run             UShort_t                                Dataset\n"
     ]
    }
   ],
   "source": [
    "ROOT::RDataFrame df_sel(\"Events\",\"snapshot.root\");\n",
    "df_sel.Describe()"
   ]
  },
  {
   "cell_type": "code",
   "execution_count": 4,
   "metadata": {},
   "outputs": [
    {
     "name": "stdout",
     "output_type": "stream",
     "text": [
      "(unsigned long long) 2881\n"
     ]
    }
   ],
   "source": [
    "*df_sel.Count()"
   ]
  },
  {
   "cell_type": "code",
   "execution_count": null,
   "metadata": {},
   "outputs": [],
   "source": []
  }
 ],
 "metadata": {
  "kernelspec": {
   "display_name": "ROOT C++",
   "language": "c++",
   "name": "root"
  },
  "language_info": {
   "codemirror_mode": "text/x-c++src",
   "file_extension": ".C",
   "mimetype": " text/x-c++src",
   "name": "c++"
  },
  "orig_nbformat": 4
 },
 "nbformat": 4,
 "nbformat_minor": 2
}
