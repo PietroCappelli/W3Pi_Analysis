{
 "cells": [
  {
   "cell_type": "code",
   "execution_count": 1,
   "metadata": {},
   "outputs": [],
   "source": [
    "#include \"ROOT/RDataFrame.hxx\"\n",
    "#include \"ROOT/RVec.hxx\"\n",
    "#include <ROOT/RLogger.hxx>\n",
    "#include \"TCanvas.h\"\n",
    "#include \"TFile.h\"\n",
    "#include \"TH1D.h\"\n",
    "#include \"TF1.h\"\n",
    "#include \"TMath.h\"\n",
    "#include \"THStack.h\"\n",
    "#include \"TLegend.h\"\n",
    "#include \"Math/Vector4D.h\"\n",
    "\n",
    "//cpp\n",
    "#include <vector>\n",
    "#include <iostream>\n",
    "#include <fstream>\n",
    "#include <iomanip>\n",
    "#include <cstdlib>\n",
    "#include <cstdio>\n",
    "#include <string>\n",
    "#include <Math/GenVector/LorentzVector.h>\n",
    "#include <Math/GenVector/PtEtaPhiM4D.h>\n",
    "#include <stdlib.h>\n",
    "#include <math.h>\n",
    "#include <TH1.h>\n",
    "\n",
    "template <typename T> using Vec = ROOT::RVec<T>; "
   ]
  },
  {
   "cell_type": "code",
   "execution_count": null,
   "metadata": {},
   "outputs": [],
   "source": []
  },
  {
   "cell_type": "code",
   "execution_count": 2,
   "metadata": {},
   "outputs": [],
   "source": [
    "std::ifstream fin(\"capture_translated/p-feats-from-DTH.dat\");\n",
    "\n",
    "std::vector<float>pt;\n",
    "std::vector<float>eta;\n",
    "std::vector<float>phi;\n",
    "std::vector<int>pid;\n",
    "float value;\n",
    "\n",
    "std::string line;\n",
    "std::getline(fin, line);\n",
    "std::istringstream pt_line(line);\n",
    "while (pt_line >> value) {\n",
    "    pt.push_back(value);\n",
    "}\n",
    "\n",
    "std::getline(fin, line);\n",
    "std::istringstream eta_line(line);\n",
    "while (eta_line >> value) {\n",
    "    eta.push_back(value);\n",
    "}\n",
    "\n",
    "std::getline(fin, line);\n",
    "std::istringstream phi_line(line);\n",
    "while (phi_line >> value) {\n",
    "    phi.push_back(value);\n",
    "}\n",
    "\n",
    "std::getline(fin, line);\n",
    "std::istringstream pid_line(line);\n",
    "while (pid_line >> value) {\n",
    "    pid.push_back(value);\n",
    "}\n",
    "\n",
    "fin.close();"
   ]
  },
  {
   "cell_type": "code",
   "execution_count": 3,
   "metadata": {},
   "outputs": [],
   "source": [
    "std::ifstream fin2(\"capture_translated/p-feats-from-DTH-noseed.dat\");\n",
    "\n",
    "std::vector<float>pt_2;\n",
    "std::vector<float>eta_2;\n",
    "std::vector<float>phi_2;\n",
    "std::vector<int>pid_2;\n",
    "float value;\n",
    "\n",
    "std::string line;\n",
    "std::getline(fin2, line);\n",
    "std::istringstream pt_line(line);\n",
    "while (pt_line >> value) {\n",
    "    pt_2.push_back(value);\n",
    "}\n",
    "\n",
    "std::getline(fin2, line);\n",
    "std::istringstream eta_line(line);\n",
    "while (eta_line >> value) {\n",
    "    eta_2.push_back(value);\n",
    "}\n",
    "\n",
    "std::getline(fin2, line);\n",
    "std::istringstream phi_line(line);\n",
    "while (phi_line >> value) {\n",
    "    phi_2.push_back(value);\n",
    "}\n",
    "\n",
    "std::getline(fin2, line);\n",
    "std::istringstream pid_line(line);\n",
    "while (pid_line >> value) {\n",
    "    pid_2.push_back(value);\n",
    "}\n"
   ]
  },
  {
   "cell_type": "code",
   "execution_count": 4,
   "metadata": {},
   "outputs": [
    {
     "data": {
      "image/png": "[encoded data removed]",
      "text/plain": [
       "<IPython.core.display.Image object>"
      ]
     },
     "metadata": {},
     "output_type": "display_data"
    }
   ],
   "source": [
    "auto c1 = new TCanvas(\"c1\", \"c1\", 800,600);\n",
    "\n",
    "///////////// SIMULATED /////////////\n",
    "TH1F* hist_genpt = new TH1F(\"hist\", \"Simulated pt; pion pt (GeV)\", 180, 2, 50); //GeV\n",
    "for (const auto &p : pt){\n",
    "    hist_genpt->Fill(p);\n",
    "}\n",
    "// TH1F* hist_genpt_2 = new TH1F(\"hist\", \"Simulated pt; pion pt (GeV)\", 100, 2, 50); //GeV\n",
    "// for (const auto &p : pt_2){\n",
    "//     hist_genpt_2->Fill(p);\n",
    "// }\n",
    "\n",
    "hist_genpt -> SetLineColor(kAzure+2);\n",
    "hist_genpt -> SetLineWidth(2);\n",
    "// hist_genpt_2 -> SetLineColor(kOrange+2);\n",
    "// hist_genpt_2 -> SetLineWidth(2);\n",
    "\n",
    "\n",
    "/////// LEGEND ///////\n",
    "auto legend = new TLegend(0.12,0.78,0.28,0.9); // (x1, y1, x2, y2)\n",
    "legend->SetHeader(\"Pt distributions\", \"C\"); // option \"C\" allows to center the header\n",
    "legend->AddEntry(hist_genpt, \"different seed\", \"f\");\n",
    "// legend->AddEntry(hist_genpt_2, \"same seed\", \"f\");\n",
    "\n",
    "hist_genpt->Draw();\n",
    "// hist_genpt_2->Draw(\"same\");\n",
    "legend->Draw();\n",
    "c1->SetLogy();\n",
    "c1->Draw();"
   ]
  },
  {
   "cell_type": "code",
   "execution_count": null,
   "metadata": {},
   "outputs": [],
   "source": []
  },
  {
   "cell_type": "code",
   "execution_count": 5,
   "metadata": {},
   "outputs": [
    {
     "data": {
      "image/png": "[encoded data removed]",
      "text/plain": [
       "<IPython.core.display.Image object>"
      ]
     },
     "metadata": {},
     "output_type": "display_data"
    },
    {
     "name": "stderr",
     "output_type": "stream",
     "text": [
      "Warning in <TCanvas::Constructor>: Deleting canvas with same name: c1\n",
      "Warning in <TROOT::Append>: Replacing existing TH1: hist (Potential memory leak).\n"
     ]
    }
   ],
   "source": [
    "auto c1 = new TCanvas(\"c1\", \"c1\", 800,600);\n",
    "\n",
    "///////////// L1PUPPI /////////////\n",
    "// auto L1puppi_eta   = df.Take<ROOT::VecOps::RVec<Float_t>>(\"L1Puppi_eta\").GetValue();\n",
    "// std::vector<double> L1puppi_etas;\n",
    "// // for (const auto& L1puppi_etai : L1puppi_eta) {\n",
    "    // // // // L1puppi_etas.insert(L1puppi_etas.end(), L1puppi_etai.begin(), L1puppi_etai.end());\n",
    "// }\n",
    "\n",
    "// TH1F* hist_L1puppi = new TH1F(\"hist\", \"L1Puppi eta; pion eta\", 100, -5, 5); //GeV\n",
    "// for (const auto &L1eta : L1puppi_etas){\n",
    "    // hist_L1puppi->Fill(L1eta);\n",
    "// }\n",
    "\n",
    "///////////// SIMULATED /////////////\n",
    "TH1F* hist_geneta = new TH1F(\"hist\", \"Simulated eta; pion eta\", 100, -5, 5); //GeV\n",
    "for (const auto &p : eta){\n",
    "    hist_geneta->Fill(p);\n",
    "}\n",
    "\n",
    "hist_geneta -> SetLineColor(kAzure+2);\n",
    "hist_geneta -> SetLineWidth(2);\n",
    "// hist_L1puppi -> SetLineColor(kOrange+8);\n",
    "// hist_L1puppi -> SetLineWidth(2);\n",
    "\n",
    "/////// LEGEND ///////\n",
    "auto legend = new TLegend(0.1,0.7,0.35,0.9); // (x1, y1, x2, y2)\n",
    "legend->SetHeader(\"Eta distributions\", \"C\"); // option \"C\" allows to center the header\n",
    "legend->AddEntry(hist_geneta, \"SimPi\", \"f\"); \n",
    "// legend->AddEntry(hist_L1puppi, \"L1Puppi\", \"f\");\n",
    "legend->Draw();\n",
    "\n",
    "// hist_L1puppi->Draw();\n",
    "hist_geneta->Draw();\n",
    "// gStyle->SetOptStat(0);\n",
    "c1->Draw();"
   ]
  },
  {
   "cell_type": "code",
   "execution_count": 6,
   "metadata": {},
   "outputs": [
    {
     "data": {
      "image/png": "[encoded data removed]",
      "text/plain": [
       "<IPython.core.display.Image object>"
      ]
     },
     "metadata": {},
     "output_type": "display_data"
    },
    {
     "name": "stderr",
     "output_type": "stream",
     "text": [
      "Warning in <TCanvas::Constructor>: Deleting canvas with same name: c1\n",
      "Warning in <TROOT::Append>: Replacing existing TH1: hist (Potential memory leak).\n"
     ]
    }
   ],
   "source": [
    "auto c1 = new TCanvas(\"c1\", \"c1\", 800,600);\n",
    "\n",
    "///////////// L1PUPPI /////////////\n",
    "\n",
    "// auto L1puppi_phi   = df.Take<ROOT::VecOps::RVec<Float_t>>(\"L1Puppi_phi\").GetValue();\n",
    "// std::vector<float> L1puppi_phis;\n",
    "// for (const auto& L1puppi_phii : L1puppi_phi) {\n",
    "//     L1puppi_phis.insert(L1puppi_phis.end(), L1puppi_phii.begin(), L1puppi_phii.end());\n",
    "// }\n",
    "\n",
    "// TH1F* hist_L1puppi = new TH1F(\"hist\", \"L1Puppi phi; pion phi\", 100, -5, 5); //GeV\n",
    "// for (const auto &L1phi : L1puppi_phis){\n",
    "//     hist_L1puppi->Fill(L1phi);\n",
    "// }\n",
    "\n",
    "///////////// SIMULATED /////////////\n",
    "TH1F* hist_genphi = new TH1F(\"hist\", \"Simulated phi; pion phi\", 100, -5, 5); //GeV\n",
    "for (const auto &p : phi){\n",
    "    hist_genphi->Fill(p);\n",
    "}\n",
    "\n",
    "hist_genphi -> SetLineColor(kAzure+2);\n",
    "hist_genphi -> SetLineWidth(2);\n",
    "// hist_L1puppi -> SetLineColor(kOrange+8);\n",
    "// hist_L1puppi -> SetLineWidth(2);\n",
    "\n",
    "/////// LEGEND ///////\n",
    "auto legend = new TLegend(0.1,0.7,0.35,0.9); // (x1, y1, x2, y2)\n",
    "legend->SetHeader(\"Eta distributions\", \"C\"); // option \"C\" allows to center the header\n",
    "legend->AddEntry(hist_genphi, \"SimPi\", \"f\"); \n",
    "// legend->AddEntry(hist_L1puppi, \"L1Puppi\", \"f\");\n",
    "legend->Draw();\n",
    "\n",
    "// hist_L1puppi->Draw(\"same\");\n",
    "hist_genphi->Draw();\n",
    "// gStyle->SetOptStat(0);\n",
    "c1->Draw();"
   ]
  },
  {
   "cell_type": "markdown",
   "metadata": {},
   "source": [
    "## n distribution"
   ]
  },
  {
   "cell_type": "code",
   "execution_count": 7,
   "metadata": {},
   "outputs": [],
   "source": [
    "std::ifstream input(\"capture_translated/n-puppi-from-DTH.dat\");\n",
    "\n",
    "std::vector<int> numbers;\n",
    "int num;\n",
    "\n",
    "while (input >> num) {\n",
    "    numbers.push_back(num);\n",
    "}\n",
    "\n",
    "input.close();"
   ]
  },
  {
   "cell_type": "code",
   "execution_count": 8,
   "metadata": {},
   "outputs": [],
   "source": [
    "std::ifstream input2(\"capture_translated/n-puppi-from-DTH-noseed.dat\");\n",
    "\n",
    "std::vector<int> numbers2;\n",
    "int num;\n",
    "\n",
    "while (input2 >> num) {\n",
    "    numbers2.push_back(num);\n",
    "}\n",
    "\n",
    "input2.close();"
   ]
  },
  {
   "cell_type": "code",
   "execution_count": 9,
   "metadata": {},
   "outputs": [
    {
     "data": {
      "image/png": "[encoded data removed]",
      "text/plain": [
       "<IPython.core.display.Image object>"
      ]
     },
     "metadata": {},
     "output_type": "display_data"
    },
    {
     "name": "stderr",
     "output_type": "stream",
     "text": [
      "Warning in <TCanvas::Constructor>: Deleting canvas with same name: c1\n",
      "Warning in <TROOT::Append>: Replacing existing TH1: hist (Potential memory leak).\n",
      "Warning in <TROOT::Append>: Replacing existing TH1: hist (Potential memory leak).\n"
     ]
    }
   ],
   "source": [
    "auto c1 = new TCanvas(\"c1\", \"c1\", 800,600);\n",
    "\n",
    "TH1F* hist_n = new TH1F(\"hist\", \"Simulated n; \", 100, 0, 100); //GeV\n",
    "for (const auto &n : numbers){\n",
    "    hist_n->Fill(n);\n",
    "}\n",
    "TH1F* hist_n_2 = new TH1F(\"hist\", \"Simulated n; \", 100, 0, 100); //GeV\n",
    "for (const auto &n : numbers2){\n",
    "    hist_n_2->Fill(n);\n",
    "}\n",
    "\n",
    "hist_n -> SetLineColor(kAzure+2);\n",
    "hist_n -> SetLineWidth(2);\n",
    "hist_n_2 -> SetLineColor(kOrange+2);\n",
    "hist_n_2 -> SetLineWidth(2);\n",
    "\n",
    "/////// LEGEND ///////\n",
    "auto legend = new TLegend(0.1,0.8,0.28,0.9); // (x1, y1, x2, y2)\n",
    "legend->SetHeader(\"n distributions\", \"C\"); // option \"C\" allows to center the header\n",
    "legend->AddEntry(hist_n, \"diff seed\", \"f\"); \n",
    "legend->AddEntry(hist_n_2, \"same seed\", \"f\"); \n",
    "\n",
    "hist_n_2->Draw();\n",
    "hist_n->Draw(\"same\");\n",
    "legend->Draw();\n",
    "c1->Draw();"
   ]
  },
  {
   "cell_type": "code",
   "execution_count": 10,
   "metadata": {},
   "outputs": [
    {
     "name": "stdout",
     "output_type": "stream",
     "text": [
      "(unsigned long) 14850\n"
     ]
    }
   ],
   "source": [
    "numbers.size()"
   ]
  },
  {
   "cell_type": "code",
   "execution_count": null,
   "metadata": {},
   "outputs": [],
   "source": []
  }
 ],
 "metadata": {
  "kernelspec": {
   "display_name": "ROOT C++",
   "language": "c++",
   "name": "root"
  },
  "language_info": {
   "codemirror_mode": "text/x-c++src",
   "file_extension": ".C",
   "mimetype": " text/x-c++src",
   "name": "c++"
  },
  "orig_nbformat": 4
 },
 "nbformat": 4,
 "nbformat_minor": 2
}
