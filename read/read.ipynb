{
 "cells": [
  {
   "cell_type": "code",
   "execution_count": 6,
   "metadata": {},
   "outputs": [],
   "source": [
    "#include <iostream>\n",
    "#include <fstream>\n",
    "#include <string>\n",
    "#include <sstream>\n",
    "#include <vector>\n",
    "\n",
    "std::ifstream input(\"output.txt\");"
   ]
  },
  {
   "cell_type": "code",
   "execution_count": 2,
   "metadata": {},
   "outputs": [],
   "source": [
    "if (!input) {\n",
    "    std::cerr << \"Impossibile aprire il file di input.\" << std::endl;\n",
    "    return 1;\n",
    "}"
   ]
  },
  {
   "cell_type": "code",
   "execution_count": 9,
   "metadata": {},
   "outputs": [],
   "source": [
    "std::string line;\n",
    "std::vector<int> Npuppi;\n",
    "\n",
    "while (std::getline(input, line)) {\n",
    "    std::stringstream ss(line);\n",
    "    std::string word;\n",
    "    int wordCount = 0;\n",
    "    while(ss >> std::hex >> word){\n",
    "        // std::cout << word << std::endl;\n",
    "        unsigned long long n = std::stoull(word, nullptr, 16);\n",
    "        wordCount++;\n",
    "    }\n",
    "    // std::cout << \"Numero di parole nella riga: \" << wordCount << std::endl;\n",
    "    Npuppi.push_back(wordCount);\n",
    "}\n",
    "\n",
    "input.close();"
   ]
  },
  {
   "cell_type": "code",
   "execution_count": 11,
   "metadata": {},
   "outputs": [
    {
     "name": "stdout",
     "output_type": "stream",
     "text": [
      "33"
     ]
    }
   ],
   "source": [
    "std::cout << Npuppi[0];"
   ]
  },
  {
   "cell_type": "code",
   "execution_count": null,
   "metadata": {},
   "outputs": [],
   "source": []
  },
  {
   "cell_type": "code",
   "execution_count": 4,
   "metadata": {},
   "outputs": [],
   "source": [
    "// #include <iostream>\n",
    "// #include <fstream>\n",
    "// #include <string>\n",
    "// #include <sstream>\n",
    "\n",
    "// std::ifstream input(\"tx_summary.txt\");\n",
    "\n",
    "// std::ofstream output(\"filtered.txt\");\n",
    "// while (std::getline(input, line)) {\n",
    "//     if (line.find(\"Link\") != std::string::npos) {\n",
    "//         break;\n",
    "//     }\n",
    "// }\n",
    "\n",
    "// // Leggi e scrivi le righe dei numeri\n",
    "// while (std::getline(input, line)) {\n",
    "//         std::cout << line << std::endl;\n",
    "//         if (line.find(\"Frame\") != std::string::npos) {\n",
    "//                 std::stringstream ss(line);\n",
    "//                 std::string token;\n",
    "//                 std::cout << line << std::endl;\n",
    "\n",
    "//                 // Ignora la parola \"Frame\"\n",
    "//                 ss >> token;\n",
    "//                 // Scrivi i numeri separati da spazio nel file di output\n",
    "//                 while (ss >> token) {\n",
    "//                     output << token << ' ';\n",
    "//                 }\n",
    "//                 output << '\\n';\n",
    "//         }\n",
    "// }\n",
    "// input.close();\n",
    "// output.close();\n",
    "\n",
    "// std::cout << \"File di output creato con successo.\" << std::endl;\n"
   ]
  },
  {
   "cell_type": "code",
   "execution_count": null,
   "metadata": {},
   "outputs": [],
   "source": []
  }
 ],
 "metadata": {
  "kernelspec": {
   "display_name": "ROOT C++",
   "language": "c++",
   "name": "root"
  },
  "language_info": {
   "codemirror_mode": "text/x-c++src",
   "file_extension": ".C",
   "mimetype": " text/x-c++src",
   "name": "c++"
  },
  "orig_nbformat": 4
 },
 "nbformat": 4,
 "nbformat_minor": 2
}
