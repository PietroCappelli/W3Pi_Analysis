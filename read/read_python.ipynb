{
 "cells": [
  {
   "cell_type": "code",
   "execution_count": 1,
   "metadata": {},
   "outputs": [],
   "source": [
    "import numpy as np"
   ]
  },
  {
   "cell_type": "code",
   "execution_count": 1,
   "metadata": {},
   "outputs": [],
   "source": [
    "input_file = \"tx_summary.txt\"\n",
    "output_file = \"output.txt\"\n",
    "event_list = []\n",
    "temp_list  = []\n",
    "with open(input_file, 'r') as input_f, open(output_file, 'w') as output_f:\n",
    "    read = False\n",
    "    for line in input_f:\n",
    "        if line.startswith(\"Frame\"):\n",
    "            numbers = line.split()[2:]\n",
    "            # print(numbers)\n",
    "            if(numbers[0] == '01101' or numbers[0]=='00101'):\n",
    "                read = True\n",
    "                # print(numbers)\n",
    "                temp_list.extend([part for i, part in enumerate(numbers) if i in (1, 3, 5, 7) and part != '0000000000000000'])\n",
    "                \n",
    "            elif(numbers[0]=='00000' and len(temp_list)!=0):\n",
    "                # event_list.extend(temp_list)\n",
    "                temp_list=[]\n",
    "                event_list.append(' ')\n",
    "                read = False\n",
    "                output_f.write(' '.join(map(str, event_list)) + '\\n')\n",
    "                event_list=[]\n",
    "            \n",
    "            if(read):\n",
    "                event_list.extend([part for i, part in enumerate(numbers) if i in (1, 3, 5, 7) and part != '0000000000000000'])\n",
    "                \n",
    "                "
   ]
  },
  {
   "cell_type": "code",
   "execution_count": 75,
   "metadata": {},
   "outputs": [
    {
     "data": {
      "text/plain": [
       "66"
      ]
     },
     "execution_count": 75,
     "metadata": {},
     "output_type": "execute_result"
    }
   ],
   "source": [
    "len(event_list)"
   ]
  },
  {
   "cell_type": "code",
   "execution_count": 66,
   "metadata": {},
   "outputs": [
    {
     "data": {
      "text/plain": [
       "['8f8eff22a054c009',\n",
       " '27515c7fe7ba8092',\n",
       " 'a773096373d04009',\n",
       " '2e596a5aa023c00b',\n",
       " 'e26a82557c044008',\n",
       " '0ea5ac752378c008',\n",
       " 'e26a7655d0068008',\n",
       " '0ea682757c044008',\n",
       " 'b7d7ab04685f800a',\n",
       " 'afbd4b46206a000b',\n",
       " 'b4916a7ae825800b',\n",
       " 'e9bfde14d0004008',\n",
       " 'd290e075fb7e0008',\n",
       " 'd99b0d4837ed400e',\n",
       " '0bf8f74a4c838021',\n",
       " 'd11b0d47ebeb800d',\n",
       " '5253c27618084008',\n",
       " 'dcd4927b8c29800c',\n",
       " '93b267617c4dc008',\n",
       " '57f0cf67a873800d',\n",
       " '931b37480475c00d',\n",
       " 'aa1bfa5e443a0013',\n",
       " 'a5eb045bb3a0c00c',\n",
       " '66635561b3c58008',\n",
       " 'd3184c58278b4009',\n",
       " 'e631d8798f93c00a',\n",
       " '274fcf04105d8009',\n",
       " '9b8ab5415fc38008',\n",
       " '6962927d8835800f',\n",
       " '92c52f657866000a',\n",
       " '84c86b4338584009',\n",
       " '54fc665628088008',\n",
       " '2a5f8b06e86ec00c',\n",
       " ' ',\n",
       " '8f8eff22a054c009',\n",
       " '27515c7fe7ba8092',\n",
       " 'a773096373d04009',\n",
       " '2e596a5aa023c00b',\n",
       " 'e26a82557c044008',\n",
       " '0ea5ac752378c008',\n",
       " 'e26a7655d0068008',\n",
       " '0ea682757c044008',\n",
       " 'b7d7ab04685f800a',\n",
       " 'afbd4b46206a000b',\n",
       " 'b4916a7ae825800b',\n",
       " 'e9bfde14d0004008',\n",
       " 'd290e075fb7e0008',\n",
       " 'd99b0d4837ed400e',\n",
       " '0bf8f74a4c838021',\n",
       " 'd11b0d47ebeb800d',\n",
       " '5253c27618084008',\n",
       " 'dcd4927b8c29800c',\n",
       " '93b267617c4dc008',\n",
       " '57f0cf67a873800d',\n",
       " '931b37480475c00d',\n",
       " 'aa1bfa5e443a0013',\n",
       " 'a5eb045bb3a0c00c',\n",
       " '66635561b3c58008',\n",
       " 'd3184c58278b4009',\n",
       " 'e631d8798f93c00a',\n",
       " '274fcf04105d8009',\n",
       " '9b8ab5415fc38008',\n",
       " '6962927d8835800f',\n",
       " '92c52f657866000a',\n",
       " '84c86b4338584009',\n",
       " '54fc665628088008',\n",
       " '2a5f8b06e86ec00c',\n",
       " ' ']"
      ]
     },
     "execution_count": 66,
     "metadata": {},
     "output_type": "execute_result"
    }
   ],
   "source": [
    "event_list"
   ]
  }
 ],
 "metadata": {
  "kernelspec": {
   "display_name": "base",
   "language": "python",
   "name": "python3"
  },
  "language_info": {
   "codemirror_mode": {
    "name": "ipython",
    "version": 3
   },
   "file_extension": ".py",
   "mimetype": "text/x-python",
   "name": "python",
   "nbconvert_exporter": "python",
   "pygments_lexer": "ipython3",
   "version": "3.10.9"
  },
  "orig_nbformat": 4
 },
 "nbformat": 4,
 "nbformat_minor": 2
}
