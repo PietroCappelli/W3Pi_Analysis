{
 "cells": [
  {
   "cell_type": "code",
   "execution_count": 1,
   "metadata": {},
   "outputs": [],
   "source": [
    "#include \"ROOT/RDataFrame.hxx\"\n",
    "#include \"ROOT/RVec.hxx\"\n",
    "#include <ROOT/RLogger.hxx>\n",
    "#include \"TCanvas.h\"\n",
    "#include \"TFile.h\"\n",
    "#include \"TH1D.h\"\n",
    "#include \"TF1.h\"\n",
    "#include \"TMath.h\"\n",
    "#include \"THStack.h\"\n",
    "#include \"TLegend.h\"\n",
    "#include \"Math/Vector4D.h\"\n",
    "\n",
    "//cpp\n",
    "#include <vector>\n",
    "#include <iostream>\n",
    "#include <fstream>\n",
    "#include <iomanip>\n",
    "#include <cstdlib>\n",
    "#include <cstdio>\n",
    "#include <string>\n",
    "#include <Math/GenVector/LorentzVector.h>\n",
    "#include <Math/GenVector/PtEtaPhiM4D.h>\n",
    "#include <stdlib.h>\n",
    "#include <math.h>\n",
    "#include <TH1.h>\n",
    "\n",
    "template <typename T> using Vec = ROOT::RVec<T>; "
   ]
  },
  {
   "cell_type": "code",
   "execution_count": 2,
   "metadata": {},
   "outputs": [
    {
     "name": "stdout",
     "output_type": "stream",
     "text": [
      "(ROOT::RDF::RDFDescription) Dataframe from TChain Events in file /home/pietro/Documents/W3Pi/l1Nano_WTo3Pion_PU200_iso.root\n",
      "\n",
      "Property                Value\n",
      "--------                -----\n",
      "Columns in total           41\n",
      "Columns from defines        0\n",
      "Event loops run             0\n",
      "Processing slots            1\n",
      "\n",
      "Column                  Type                            Origin\n",
      "------                  ----                            ------\n",
      "GenPi_charge            ROOT::VecOps::RVec<Int_t>       Dataset\n",
      "GenPi_eta               ROOT::VecOps::RVec<Float_t>     Dataset\n",
      "GenPi_mass              ROOT::VecOps::RVec<Float_t>     Dataset\n",
      "GenPi_pdgId             ROOT::VecOps::RVec<Int_t>       Dataset\n",
      "GenPi_phi               ROOT::VecOps::RVec<Float_t>     Dataset\n",
      "GenPi_prompt            ROOT::VecOps::RVec<Int_t>       Dataset\n",
      "GenPi_pt                ROOT::VecOps::RVec<Float_t>     Dataset\n",
      "GenPi_vz                ROOT::VecOps::RVec<Float_t>     Dataset\n",
      "GenW_charge             ROOT::VecOps::RVec<Int_t>       Dataset\n",
      "GenW_eta                ROOT::VecOps::RVec<Float_t>     Dataset\n",
      "GenW_mass               ROOT::VecOps::RVec<Float_t>     Dataset\n",
      "GenW_pdgId              ROOT::VecOps::RVec<Int_t>       Dataset\n",
      "GenW_phi                ROOT::VecOps::RVec<Float_t>     Dataset\n",
      "GenW_pt                 ROOT::VecOps::RVec<Float_t>     Dataset\n",
      "GenW_vz                 ROOT::VecOps::RVec<Float_t>     Dataset\n",
      "L1PF_GenPiFlav          ROOT::VecOps::RVec<UChar_t>     Dataset\n",
      "L1PF_GenPiIdx           ROOT::VecOps::RVec<Int_t>       Dataset\n",
      "L1PF_charge             ROOT::VecOps::RVec<Int_t>       Dataset\n",
      "L1PF_eta                ROOT::VecOps::RVec<Float_t>     Dataset\n",
      "L1PF_mass               ROOT::VecOps::RVec<Float_t>     Dataset\n",
      "L1PF_pdgId              ROOT::VecOps::RVec<Int_t>       Dataset\n",
      "L1PF_phi                ROOT::VecOps::RVec<Float_t>     Dataset\n",
      "L1PF_pt                 ROOT::VecOps::RVec<Float_t>     Dataset\n",
      "L1PF_vz                 ROOT::VecOps::RVec<Float_t>     Dataset\n",
      "L1Puppi_GenPiFlav       ROOT::VecOps::RVec<UChar_t>     Dataset\n",
      "L1Puppi_GenPiIdx        ROOT::VecOps::RVec<Int_t>       Dataset\n",
      "L1Puppi_charge          ROOT::VecOps::RVec<Int_t>       Dataset\n",
      "L1Puppi_eta             ROOT::VecOps::RVec<Float_t>     Dataset\n",
      "L1Puppi_mass            ROOT::VecOps::RVec<Float_t>     Dataset\n",
      "L1Puppi_pdgId           ROOT::VecOps::RVec<Int_t>       Dataset\n",
      "L1Puppi_phi             ROOT::VecOps::RVec<Float_t>     Dataset\n",
      "L1Puppi_pt              ROOT::VecOps::RVec<Float_t>     Dataset\n",
      "L1Puppi_vz              ROOT::VecOps::RVec<Float_t>     Dataset\n",
      "RelIso                  ROOT::VecOps::RVec<float>       Dataset\n",
      "event                   ULong64_t                       Dataset\n",
      "luminosityBlock         UInt_t                          Dataset\n",
      "nGenPi                  UInt_t                          Dataset\n",
      "nGenW                   UInt_t                          Dataset\n",
      "nL1PF                   UInt_t                          Dataset\n",
      "nL1Puppi                UInt_t                          Dataset\n",
      "run                     UInt_t                          Dataset\n"
     ]
    }
   ],
   "source": [
    "ROOT::RDataFrame df(\"Events\",\"/home/pietro/Documents/W3Pi/l1Nano_WTo3Pion_PU200_iso.root\");\n",
    "df.Describe()"
   ]
  },
  {
   "cell_type": "code",
   "execution_count": 3,
   "metadata": {},
   "outputs": [
    {
     "data": {
      "image/png": "[encoded data removed]",
      "text/plain": [
       "<IPython.core.display.Image object>"
      ]
     },
     "metadata": {},
     "output_type": "display_data"
    }
   ],
   "source": [
    "auto gen_pt   = df.Take<ROOT::VecOps::RVec<Float_t>>(\"L1Puppi_pt\").GetValue();\n",
    "std::vector<float> pts;\n",
    "\n",
    "for (const auto& pti : gen_pt) {\n",
    "    pts.insert(pts.end(), pti.begin(), pti.end());\n",
    "}\n",
    "\n",
    "TH1F* hist_pt = new TH1F(\"hist\", \"L1Puppi pt; pion pt (GeV)\", 192, 2, 50); //GeV\n",
    "for (const auto &p : pts){\n",
    "    if(p>0){\n",
    "        hist_pt->Fill(p);\n",
    "    }\n",
    "}\n",
    "hist_pt -> SetLineColor(kOrange+7);\n",
    "hist_pt -> SetLineWidth(2);\n",
    "// hist_pt -> Scale(N_lut/hist_pt-> Integral());\n",
    "auto c1 = new TCanvas(\"c1\", \"c1\", 800,600);\n",
    "hist_pt->Draw();\n",
    "c1->SetLogy();\n",
    "c1->Draw();\n"
   ]
  },
  {
   "cell_type": "markdown",
   "metadata": {},
   "source": [
    "## Building the pdf and the cdf"
   ]
  },
  {
   "cell_type": "code",
   "execution_count": 4,
   "metadata": {},
   "outputs": [],
   "source": [
    "std::vector<double> pdf;\n",
    "std::vector<double> cdf;\n",
    "std::vector<float>  pt_bin;\n",
    "\n",
    "for(int i=1; i < hist_pt -> GetNbinsX(); i++){\n",
    "    pdf.push_back(hist_pt ->GetBinContent(i-1));\n",
    "    pt_bin.push_back(hist_pt ->GetBinLowEdge(i));\n",
    "}\n",
    "\n",
    "cdf.push_back(pdf[0]);\n",
    "for(int i=1; i < hist_pt -> GetNbinsX() -1; i++){\n",
    "    cdf.push_back( (cdf[i-1]+pdf[i]) );\n",
    "}\n",
    "for(int i=0; i < hist_pt -> GetNbinsX(); i++){\n",
    "    cdf[i] = cdf[i]/(*max_element(cdf.begin(), cdf.end()));\n",
    "}"
   ]
  },
  {
   "cell_type": "code",
   "execution_count": 5,
   "metadata": {},
   "outputs": [
    {
     "name": "stdout",
     "output_type": "stream",
     "text": [
      "(unsigned long) 191\n"
     ]
    }
   ],
   "source": [
    "cdf.size()"
   ]
  },
  {
   "cell_type": "markdown",
   "metadata": {},
   "source": [
    "## function to calculate the inverse cdf"
   ]
  },
  {
   "cell_type": "code",
   "execution_count": 6,
   "metadata": {},
   "outputs": [],
   "source": [
    "float pt_generator(std::vector<double> cdf, std::vector<float> pt_bins, double p){\n",
    "    int idx=0;\n",
    "    for(int i=0; i < hist_pt -> GetNbinsX(); i++){\n",
    "        if(p>=cdf[i] && p<=cdf[i+1]) idx=i;\n",
    "    }\n",
    "    return pt_bins[idx];\n",
    "}"
   ]
  },
  {
   "cell_type": "code",
   "execution_count": 7,
   "metadata": {},
   "outputs": [],
   "source": [
    "1.0 / 2047.0;\n"
   ]
  },
  {
   "cell_type": "code",
   "execution_count": 8,
   "metadata": {},
   "outputs": [
    {
     "name": "stdout",
     "output_type": "stream",
     "text": [
      "2048\n"
     ]
    }
   ],
   "source": [
    "std::vector<float> probs;\n",
    "std::vector<float> pt_LUT;\n",
    "std::vector<int> pt_LUT_int;\n",
    "\n",
    "float step = 1.0 / 2047.0;\n",
    "\n",
    "for(float val=0; val<=1; val+=step ) probs.push_back(val);\n",
    "\n",
    "std::cout << probs.size() << std::endl;\n",
    "for(int i=0; i<probs.size(); i++){\n",
    "    pt_LUT.push_back(pt_generator(cdf, pt_bin, probs[i]));\n",
    "    pt_LUT_int.push_back(static_cast<int>(pt_LUT[i]/0.25));\n",
    "}\n"
   ]
  },
  {
   "cell_type": "code",
   "execution_count": 9,
   "metadata": {},
   "outputs": [
    {
     "name": "stdout",
     "output_type": "stream",
     "text": [
      "(std::vector<float> &) { 2.00000f, 2.00000f, 2.00000f, 2.00000f, 2.00000f, 2.00000f, 2.00000f, 2.00000f, 2.00000f, 2.00000f, 2.00000f, 2.00000f, 2.00000f, 2.00000f, 2.00000f, 2.00000f, 2.00000f, 2.00000f, 2.00000f, 2.00000f, 2.00000f, 2.00000f, 2.00000f, 2.00000f, 2.00000f, 2.00000f, 2.00000f, 2.00000f, 2.00000f, 2.00000f, 2.00000f, 2.00000f, 2.00000f, 2.00000f, 2.00000f, 2.00000f, 2.00000f, 2.00000f, 2.00000f, 2.00000f, 2.00000f, 2.00000f, 2.00000f, 2.00000f, 2.00000f, 2.00000f, 2.00000f, 2.00000f, 2.00000f, 2.00000f, 2.00000f, 2.00000f, 2.00000f, 2.00000f, 2.00000f, 2.00000f, 2.00000f, 2.00000f, 2.00000f, 2.00000f, 2.00000f, 2.00000f, 2.00000f, 2.00000f, 2.00000f, 2.00000f, 2.00000f, 2.00000f, 2.00000f, 2.00000f, 2.00000f, 2.00000f, 2.00000f, 2.00000f, 2.00000f, 2.00000f, 2.00000f, 2.00000f, 2.00000f, 2.00000f, 2.00000f, 2.00000f, 2.00000f, 2.00000f, 2.00000f, 2.00000f, 2.00000f, 2.00000f, 2.00000f, 2.00000f, 2.00000f, 2.00000f, 2.00000f, 2.00000f, 2.00000f, 2.00000f, 2.00000f, 2.00000f, 2.00000f, 2.00000f, 2.00000f, 2.00000f, 2.00000f, 2.00000f, 2.00000f, 2.00000f, 2.00000f, 2.00000f, 2.00000f, 2.00000f, 2.00000f, 2.00000f, 2.00000f, 2.00000f, 2.00000f, 2.00000f, 2.00000f, 2.00000f, 2.00000f, 2.00000f, 2.00000f, 2.00000f, 2.00000f, 2.00000f, 2.00000f, 2.00000f, 2.00000f, 2.00000f, 2.00000f, 2.00000f, 2.00000f, 2.00000f, 2.00000f, 2.00000f, 2.00000f, 2.00000f, 2.00000f, 2.00000f, 2.00000f, 2.00000f, 2.00000f, 2.00000f, 2.00000f, 2.00000f, 2.00000f, 2.00000f, 2.00000f, 2.00000f, 2.00000f, 2.00000f, 2.00000f, 2.00000f, 2.00000f, 2.00000f, 2.00000f, 2.00000f, 2.00000f, 2.00000f, 2.00000f, 2.00000f, 2.00000f, 2.00000f, 2.00000f, 2.00000f, 2.00000f, 2.00000f, 2.00000f, 2.00000f, 2.00000f, 2.00000f, 2.00000f, 2.00000f, 2.00000f, 2.00000f, 2.00000f, 2.00000f, 2.00000f, 2.00000f, 2.00000f, 2.00000f, 2.00000f, 2.00000f, 2.00000f, 2.00000f, 2.00000f, 2.00000f, 2.00000f, 2.00000f, 2.00000f, 2.00000f, 2.00000f, 2.00000f, 2.00000f, 2.00000f, 2.00000f, 2.00000f, 2.00000f, 2.00000f, 2.00000f, 2.00000f, 2.00000f, 2.00000f, 2.00000f, 2.00000f, 2.00000f, 2.00000f, 2.00000f, 2.00000f, 2.00000f, 2.00000f, 2.00000f, 2.00000f, 2.00000f, 2.00000f, 2.00000f, 2.00000f, 2.00000f, 2.00000f, 2.00000f, 2.00000f, 2.00000f, 2.00000f, 2.00000f, 2.00000f, 2.00000f, 2.00000f, 2.00000f, 2.00000f, 2.00000f, 2.00000f, 2.00000f, 2.00000f, 2.00000f, 2.00000f, 2.00000f, 2.00000f, 2.00000f, 2.00000f, 2.00000f, 2.00000f, 2.00000f, 2.00000f, 2.00000f, 2.00000f, 2.00000f, 2.00000f, 2.00000f, 2.00000f, 2.00000f, 2.00000f, 2.00000f, 2.00000f, 2.00000f, 2.00000f, 2.00000f, 2.00000f, 2.00000f, 2.00000f, 2.00000f, 2.00000f, 2.00000f, 2.00000f, 2.00000f, 2.00000f, 2.00000f, 2.00000f, 2.00000f, 2.00000f, 2.00000f, 2.00000f, 2.00000f, 2.00000f, 2.00000f, 2.00000f, 2.00000f, 2.00000f, 2.00000f, 2.00000f, 2.00000f, 2.00000f, 2.00000f, 2.00000f, 2.00000f, 2.00000f, 2.00000f, 2.00000f, 2.00000f, 2.00000f, 2.00000f, 2.00000f, 2.00000f, 2.00000f, 2.00000f, 2.00000f, 2.00000f, 2.00000f, 2.00000f, 2.00000f, 2.00000f, 2.00000f, 2.00000f, 2.00000f, 2.00000f, 2.00000f, 2.00000f, 2.00000f, 2.00000f, 2.00000f, 2.00000f, 2.00000f, 2.00000f, 2.00000f, 2.00000f, 2.00000f, 2.00000f, 2.00000f, 2.00000f, 2.00000f, 2.00000f, 2.00000f, 2.00000f, 2.00000f, 2.00000f, 2.00000f, 2.00000f, 2.00000f, 2.00000f, 2.00000f, 2.00000f, 2.00000f, 2.00000f, 2.00000f, 2.00000f, 2.00000f, 2.00000f, 2.00000f, 2.00000f, 2.00000f, 2.00000f, 2.00000f, 2.00000f, 2.00000f, 2.00000f, 2.00000f, 2.00000f, 2.00000f, 2.00000f, 2.00000f, 2.00000f, 2.00000f, 2.00000f, 2.00000f, 2.00000f, 2.00000f, 2.00000f, 2.00000f, 2.00000f, 2.00000f, 2.00000f, 2.00000f, 2.00000f, 2.00000f, 2.00000f, 2.00000f, 2.00000f, 2.00000f, 2.00000f, 2.00000f, 2.25000f, 2.25000f, 2.25000f, 2.25000f, 2.25000f, 2.25000f, 2.25000f, 2.25000f, 2.25000f, 2.25000f, 2.25000f, 2.25000f, 2.25000f, 2.25000f, 2.25000f, 2.25000f, 2.25000f, 2.25000f, 2.25000f, 2.25000f, 2.25000f, 2.25000f, 2.25000f, 2.25000f, 2.25000f, 2.25000f, 2.25000f, 2.25000f, 2.25000f, 2.25000f, 2.25000f, 2.25000f, 2.25000f, 2.25000f, 2.25000f, 2.25000f, 2.25000f, 2.25000f, 2.25000f, 2.25000f, 2.25000f, 2.25000f, 2.25000f, 2.25000f, 2.25000f, 2.25000f, 2.25000f, 2.25000f, 2.25000f, 2.25000f, 2.25000f, 2.25000f, 2.25000f, 2.25000f, 2.25000f, 2.25000f, 2.25000f, 2.25000f, 2.25000f, 2.25000f, 2.25000f, 2.25000f, 2.25000f, 2.25000f, 2.25000f, 2.25000f, 2.25000f, 2.25000f, 2.25000f, 2.25000f, 2.25000f, 2.25000f, 2.25000f, 2.25000f, 2.25000f, 2.25000f, 2.25000f, 2.25000f, 2.25000f, 2.25000f, 2.25000f, 2.25000f, 2.25000f, 2.25000f, 2.25000f, 2.25000f, 2.25000f, 2.25000f, 2.25000f, 2.25000f, 2.25000f, 2.25000f, 2.25000f, 2.25000f, 2.25000f, 2.25000f, 2.25000f, 2.25000f, 2.25000f, 2.25000f, 2.25000f, 2.25000f, 2.25000f, 2.25000f, 2.25000f, 2.25000f, 2.25000f, 2.25000f, 2.25000f, 2.25000f, 2.25000f, 2.25000f, 2.25000f, 2.25000f, 2.25000f, 2.25000f, 2.25000f, 2.25000f, 2.25000f, 2.25000f, 2.25000f, 2.25000f, 2.25000f, 2.25000f, 2.25000f, 2.25000f, 2.25000f, 2.25000f, 2.25000f, 2.25000f, 2.25000f, 2.25000f, 2.25000f, 2.25000f, 2.25000f, 2.25000f, 2.25000f, 2.25000f, 2.25000f, 2.25000f, 2.25000f, 2.25000f, 2.25000f, 2.25000f, 2.25000f, 2.25000f, 2.25000f, 2.25000f, 2.25000f, 2.25000f, 2.25000f, 2.25000f, 2.25000f, 2.25000f, 2.25000f, 2.25000f, 2.25000f, 2.25000f, 2.25000f, 2.25000f, 2.25000f, 2.25000f, 2.25000f, 2.25000f, 2.25000f, 2.25000f, 2.25000f, 2.25000f, 2.25000f, 2.25000f, 2.25000f, 2.25000f, 2.25000f, 2.25000f, 2.25000f, 2.25000f, 2.25000f, 2.25000f, 2.25000f, 2.25000f, 2.25000f, 2.25000f, 2.25000f, 2.25000f, 2.25000f, 2.25000f, 2.25000f, 2.25000f, 2.25000f, 2.25000f, 2.25000f, 2.25000f, 2.25000f, 2.25000f, 2.25000f, 2.25000f, 2.25000f, 2.25000f, 2.25000f, 2.25000f, 2.25000f, 2.25000f, 2.25000f, 2.25000f, 2.25000f, 2.25000f, 2.25000f, 2.25000f, 2.25000f, 2.25000f, 2.25000f, 2.25000f, 2.25000f, 2.25000f, 2.25000f, 2.25000f, 2.25000f, 2.25000f, 2.25000f, 2.25000f, 2.25000f, 2.25000f, 2.25000f, 2.25000f, 2.25000f, 2.25000f, 2.25000f, 2.25000f, 2.25000f, 2.25000f, 2.25000f, 2.25000f, 2.25000f, 2.25000f, 2.25000f, 2.25000f, 2.25000f, 2.25000f, 2.25000f, 2.25000f, 2.25000f, 2.25000f, 2.25000f, 2.25000f, 2.25000f, 2.25000f, 2.25000f, 2.25000f, 2.25000f, 2.25000f, 2.25000f, 2.25000f, 2.25000f, 2.25000f, 2.25000f, 2.25000f, 2.25000f, 2.25000f, 2.25000f, 2.25000f, 2.25000f, 2.25000f, 2.25000f, 2.25000f, 2.25000f, 2.25000f, 2.25000f, 2.25000f, 2.25000f, 2.25000f, 2.25000f, 2.25000f, 2.25000f, 2.25000f, 2.25000f, 2.25000f, 2.25000f, 2.25000f, 2.25000f, 2.25000f, 2.25000f, 2.25000f, 2.25000f, 2.25000f, 2.25000f, 2.25000f, 2.25000f, 2.25000f, 2.25000f, 2.25000f, 2.25000f, 2.25000f, 2.25000f, 2.25000f, 2.25000f, 2.25000f, 2.25000f, 2.25000f, 2.25000f, 2.25000f, 2.25000f, 2.25000f, 2.25000f, 2.25000f, 2.25000f, 2.25000f, 2.25000f, 2.25000f, 2.25000f, 2.25000f, 2.25000f, 2.25000f, 2.25000f, 2.25000f, 2.25000f, 2.25000f, 2.25000f, 2.25000f, 2.25000f, 2.25000f, 2.25000f, 2.25000f, 2.25000f, 2.25000f, 2.25000f, 2.25000f, 2.25000f, 2.25000f, 2.25000f, 2.25000f, 2.25000f, 2.25000f, 2.25000f, 2.25000f, 2.25000f, 2.25000f, 2.25000f, 2.25000f, 2.25000f, 2.25000f, 2.25000f, 2.25000f, 2.25000f, 2.25000f, 2.25000f, 2.25000f, 2.25000f, 2.25000f, 2.25000f, 2.25000f, 2.25000f, 2.25000f, 2.25000f, 2.25000f, 2.25000f, 2.25000f, 2.25000f, 2.25000f, 2.25000f, 2.25000f, 2.25000f, 2.25000f, 2.25000f, 2.25000f, 2.25000f, 2.25000f, 2.25000f, 2.25000f, 2.25000f, 2.25000f, 2.25000f, 2.25000f, 2.25000f, 2.25000f, 2.25000f, 2.25000f, 2.25000f, 2.25000f, 2.25000f, 2.25000f, 2.25000f, 2.25000f, 2.25000f, 2.25000f, 2.25000f, 2.25000f, 2.25000f, 2.25000f, 2.25000f, 2.25000f, 2.25000f, 2.25000f, 2.25000f, 2.50000f, 2.50000f, 2.50000f, 2.50000f, 2.50000f, 2.50000f, 2.50000f, 2.50000f, 2.50000f, 2.50000f, 2.50000f, 2.50000f, 2.50000f, 2.50000f, 2.50000f, 2.50000f, 2.50000f, 2.50000f, 2.50000f, 2.50000f, 2.50000f, 2.50000f, 2.50000f, 2.50000f, 2.50000f, 2.50000f, 2.50000f, 2.50000f, 2.50000f, 2.50000f, 2.50000f, 2.50000f, 2.50000f, 2.50000f, 2.50000f, 2.50000f, 2.50000f, 2.50000f, 2.50000f, 2.50000f, 2.50000f, 2.50000f, 2.50000f, 2.50000f, 2.50000f, 2.50000f, 2.50000f, 2.50000f, 2.50000f, 2.50000f, 2.50000f, 2.50000f, 2.50000f, 2.50000f, 2.50000f, 2.50000f, 2.50000f, 2.50000f, 2.50000f, 2.50000f, 2.50000f, 2.50000f, 2.50000f, 2.50000f, 2.50000f, 2.50000f, 2.50000f, 2.50000f, 2.50000f, 2.50000f, 2.50000f, 2.50000f, 2.50000f, 2.50000f, 2.50000f, 2.50000f, 2.50000f, 2.50000f, 2.50000f, 2.50000f, 2.50000f, 2.50000f, 2.50000f, 2.50000f, 2.50000f, 2.50000f, 2.50000f, 2.50000f, 2.50000f, 2.50000f, 2.50000f, 2.50000f, 2.50000f, 2.50000f, 2.50000f, 2.50000f, 2.50000f, 2.50000f, 2.50000f, 2.50000f, 2.50000f, 2.50000f, 2.50000f, 2.50000f, 2.50000f, 2.50000f, 2.50000f, 2.50000f, 2.50000f, 2.50000f, 2.50000f, 2.50000f, 2.50000f, 2.50000f, 2.50000f, 2.50000f, 2.50000f, 2.50000f, 2.50000f, 2.50000f, 2.50000f, 2.50000f, 2.50000f, 2.50000f, 2.50000f, 2.50000f, 2.50000f, 2.50000f, 2.50000f, 2.50000f, 2.50000f, 2.50000f, 2.50000f, 2.50000f, 2.50000f, 2.50000f, 2.50000f, 2.50000f, 2.50000f, 2.50000f, 2.50000f, 2.50000f, 2.50000f, 2.50000f, 2.50000f, 2.50000f, 2.50000f, 2.50000f, 2.50000f, 2.50000f, 2.50000f, 2.50000f, 2.50000f, 2.50000f, 2.50000f, 2.50000f, 2.50000f, 2.50000f, 2.50000f, 2.50000f, 2.50000f, 2.50000f, 2.50000f, 2.50000f, 2.50000f, 2.50000f, 2.50000f, 2.50000f, 2.50000f, 2.50000f, 2.50000f, 2.50000f, 2.50000f, 2.50000f, 2.50000f, 2.50000f, 2.50000f, 2.50000f, 2.50000f, 2.50000f, 2.50000f, 2.50000f, 2.50000f, 2.50000f, 2.50000f, 2.50000f, 2.50000f, 2.50000f, 2.50000f, 2.50000f, 2.50000f, 2.50000f, 2.50000f, 2.50000f, 2.50000f, 2.50000f, 2.50000f, 2.50000f, 2.50000f, 2.50000f, 2.50000f, 2.50000f, 2.50000f, 2.50000f, 2.50000f, 2.50000f, 2.50000f, 2.50000f, 2.50000f, 2.50000f, 2.50000f, 2.50000f, 2.50000f, 2.50000f, 2.50000f, 2.50000f, 2.50000f, 2.50000f, 2.50000f, 2.50000f, 2.50000f, 2.50000f, 2.50000f, 2.50000f, 2.50000f, 2.50000f, 2.50000f, 2.50000f, 2.50000f, 2.50000f, 2.50000f, 2.50000f, 2.50000f, 2.50000f, 2.50000f, 2.50000f, 2.50000f, 2.50000f, 2.50000f, 2.50000f, 2.50000f, 2.50000f, 2.50000f, 2.50000f, 2.50000f, 2.50000f, 2.50000f, 2.50000f, 2.50000f, 2.50000f, 2.50000f, 2.50000f, 2.50000f, 2.50000f, 2.50000f, 2.50000f, 2.50000f, 2.50000f, 2.50000f, 2.50000f, 2.50000f, 2.50000f, 2.50000f, 2.50000f, 2.50000f, 2.50000f, 2.50000f, 2.50000f, 2.50000f, 2.50000f, 2.50000f, 2.50000f, 2.50000f, 2.50000f, 2.50000f, 2.50000f, 2.50000f, 2.50000f, 2.75000f, 2.75000f, 2.75000f, 2.75000f, 2.75000f, 2.75000f, 2.75000f, 2.75000f, 2.75000f, 2.75000f, 2.75000f, 2.75000f, 2.75000f, 2.75000f, 2.75000f, 2.75000f, 2.75000f, 2.75000f, 2.75000f, 2.75000f, 2.75000f, 2.75000f, 2.75000f, 2.75000f, 2.75000f, 2.75000f, 2.75000f, 2.75000f, 2.75000f, 2.75000f, 2.75000f, 2.75000f, 2.75000f, 2.75000f, 2.75000f, 2.75000f, 2.75000f, 2.75000f, 2.75000f, 2.75000f, 2.75000f, 2.75000f, 2.75000f, 2.75000f, 2.75000f, 2.75000f, 2.75000f, 2.75000f, 2.75000f, 2.75000f, 2.75000f, 2.75000f, 2.75000f, 2.75000f, 2.75000f, 2.75000f, 2.75000f, 2.75000f, 2.75000f, 2.75000f, 2.75000f, 2.75000f, 2.75000f, 2.75000f, 2.75000f, 2.75000f, 2.75000f, 2.75000f, 2.75000f, 2.75000f, 2.75000f, 2.75000f, 2.75000f, 2.75000f, 2.75000f, 2.75000f, 2.75000f, 2.75000f, 2.75000f, 2.75000f, 2.75000f, 2.75000f, 2.75000f, 2.75000f, 2.75000f, 2.75000f, 2.75000f, 2.75000f, 2.75000f, 2.75000f, 2.75000f, 2.75000f, 2.75000f, 2.75000f, 2.75000f, 2.75000f, 2.75000f, 2.75000f, 2.75000f, 2.75000f, 2.75000f, 2.75000f, 2.75000f, 2.75000f, 2.75000f, 2.75000f, 2.75000f, 2.75000f, 2.75000f, 2.75000f, 2.75000f, 2.75000f, 2.75000f, 2.75000f, 2.75000f, 2.75000f, 2.75000f, 2.75000f, 2.75000f, 2.75000f, 2.75000f, 2.75000f, 2.75000f, 2.75000f, 2.75000f, 2.75000f, 2.75000f, 2.75000f, 2.75000f, 2.75000f, 2.75000f, 2.75000f, 2.75000f, 2.75000f, 2.75000f, 2.75000f, 2.75000f, 2.75000f, 2.75000f, 2.75000f, 2.75000f, 2.75000f, 2.75000f, 2.75000f, 2.75000f, 2.75000f, 2.75000f, 2.75000f, 2.75000f, 2.75000f, 2.75000f, 2.75000f, 2.75000f, 2.75000f, 2.75000f, 2.75000f, 2.75000f, 2.75000f, 2.75000f, 2.75000f, 2.75000f, 2.75000f, 2.75000f, 2.75000f, 2.75000f, 2.75000f, 2.75000f, 2.75000f, 2.75000f, 2.75000f, 2.75000f, 2.75000f, 2.75000f, 2.75000f, 2.75000f, 2.75000f, 2.75000f, 2.75000f, 2.75000f, 2.75000f, 2.75000f, 2.75000f, 2.75000f, 2.75000f, 2.75000f, 2.75000f, 2.75000f, 2.75000f, 2.75000f, 2.75000f, 2.75000f, 2.75000f, 2.75000f, 2.75000f, 2.75000f, 2.75000f, 2.75000f, 2.75000f, 2.75000f, 2.75000f, 3.00000f, 3.00000f, 3.00000f, 3.00000f, 3.00000f, 3.00000f, 3.00000f, 3.00000f, 3.00000f, 3.00000f, 3.00000f, 3.00000f, 3.00000f, 3.00000f, 3.00000f, 3.00000f, 3.00000f, 3.00000f, 3.00000f, 3.00000f, 3.00000f, 3.00000f, 3.00000f, 3.00000f, 3.00000f, 3.00000f, 3.00000f, 3.00000f, 3.00000f, 3.00000f, 3.00000f, 3.00000f, 3.00000f, 3.00000f, 3.00000f, 3.00000f, 3.00000f, 3.00000f, 3.00000f, 3.00000f, 3.00000f, 3.00000f, 3.00000f, 3.00000f, 3.00000f, 3.00000f, 3.00000f, 3.00000f, 3.00000f, 3.00000f, 3.00000f, 3.00000f, 3.00000f, 3.00000f, 3.00000f, 3.00000f, 3.00000f, 3.00000f, 3.00000f, 3.00000f, 3.00000f, 3.00000f, 3.00000f, 3.00000f, 3.00000f, 3.00000f, 3.00000f, 3.00000f, 3.00000f, 3.00000f, 3.00000f, 3.00000f, 3.00000f, 3.00000f, 3.00000f, 3.00000f, 3.00000f, 3.00000f, 3.00000f, 3.00000f, 3.00000f, 3.00000f, 3.00000f, 3.00000f, 3.00000f, 3.00000f, 3.00000f, 3.00000f, 3.00000f, 3.00000f, 3.00000f, 3.00000f, 3.00000f, 3.00000f, 3.00000f, 3.00000f, 3.00000f, 3.00000f, 3.00000f, 3.00000f, 3.00000f, 3.00000f, 3.00000f, 3.00000f, 3.00000f, 3.00000f, 3.00000f, 3.00000f, 3.00000f, 3.00000f, 3.00000f, 3.00000f, 3.00000f, 3.00000f, 3.00000f, 3.00000f, 3.00000f, 3.00000f, 3.00000f, 3.00000f, 3.00000f, 3.00000f, 3.00000f, 3.00000f, 3.00000f, 3.00000f, 3.00000f, 3.00000f, 3.00000f, 3.00000f, 3.00000f, 3.00000f, 3.00000f, 3.00000f, 3.00000f, 3.00000f, 3.00000f, 3.00000f, 3.00000f, 3.00000f, 3.00000f, 3.00000f, 3.00000f, 3.25000f, 3.25000f, 3.25000f, 3.25000f, 3.25000f, 3.25000f, 3.25000f, 3.25000f, 3.25000f, 3.25000f, 3.25000f, 3.25000f, 3.25000f, 3.25000f, 3.25000f, 3.25000f, 3.25000f, 3.25000f, 3.25000f, 3.25000f, 3.25000f, 3.25000f, 3.25000f, 3.25000f, 3.25000f, 3.25000f, 3.25000f, 3.25000f, 3.25000f, 3.25000f, 3.25000f, 3.25000f, 3.25000f, 3.25000f, 3.25000f, 3.25000f, 3.25000f, 3.25000f, 3.25000f, 3.25000f, 3.25000f, 3.25000f, 3.25000f, 3.25000f, 3.25000f, 3.25000f, 3.25000f, 3.25000f, 3.25000f, 3.25000f, 3.25000f, 3.25000f, 3.25000f, 3.25000f, 3.25000f, 3.25000f, 3.25000f, 3.25000f, 3.25000f, 3.25000f, 3.25000f, 3.25000f, 3.25000f, 3.25000f, 3.25000f, 3.25000f, 3.25000f, 3.25000f, 3.25000f, 3.25000f, 3.25000f, 3.25000f, 3.25000f, 3.25000f, 3.25000f, 3.25000f, 3.25000f, 3.25000f, 3.25000f, 3.25000f, 3.25000f, 3.25000f, 3.25000f, 3.25000f, 3.25000f, 3.25000f, 3.25000f, 3.25000f, 3.25000f, 3.25000f, 3.25000f, 3.25000f, 3.25000f, 3.25000f, 3.25000f, 3.25000f, 3.25000f, 3.25000f, 3.25000f, 3.25000f, 3.25000f, 3.25000f, 3.25000f, 3.25000f, 3.50000f, 3.50000f, 3.50000f, 3.50000f, 3.50000f, 3.50000f, 3.50000f, 3.50000f, 3.50000f, 3.50000f, 3.50000f, 3.50000f, 3.50000f, 3.50000f, 3.50000f, 3.50000f, 3.50000f, 3.50000f, 3.50000f, 3.50000f, 3.50000f, 3.50000f, 3.50000f, 3.50000f, 3.50000f, 3.50000f, 3.50000f, 3.50000f, 3.50000f, 3.50000f, 3.50000f, 3.50000f, 3.50000f, 3.50000f, 3.50000f, 3.50000f, 3.50000f, 3.50000f, 3.50000f, 3.50000f, 3.50000f, 3.50000f, 3.50000f, 3.50000f, 3.50000f, 3.50000f, 3.50000f, 3.50000f, 3.50000f, 3.50000f, 3.50000f, 3.50000f, 3.50000f, 3.50000f, 3.50000f, 3.50000f, 3.50000f, 3.50000f, 3.50000f, 3.50000f, 3.50000f, 3.50000f, 3.50000f, 3.50000f, 3.50000f, 3.50000f, 3.50000f, 3.50000f, 3.50000f, 3.50000f, 3.50000f, 3.50000f, 3.50000f, 3.50000f, 3.50000f, 3.50000f, 3.50000f, 3.50000f, 3.75000f, 3.75000f, 3.75000f, 3.75000f, 3.75000f, 3.75000f, 3.75000f, 3.75000f, 3.75000f, 3.75000f, 3.75000f, 3.75000f, 3.75000f, 3.75000f, 3.75000f, 3.75000f, 3.75000f, 3.75000f, 3.75000f, 3.75000f, 3.75000f, 3.75000f, 3.75000f, 3.75000f, 3.75000f, 3.75000f, 3.75000f, 3.75000f, 3.75000f, 3.75000f, 3.75000f, 3.75000f, 3.75000f, 3.75000f, 3.75000f, 3.75000f, 3.75000f, 3.75000f, 3.75000f, 3.75000f, 3.75000f, 3.75000f, 3.75000f, 3.75000f, 3.75000f, 3.75000f, 3.75000f, 3.75000f, 3.75000f, 3.75000f, 3.75000f, 3.75000f, 3.75000f, 3.75000f, 3.75000f, 3.75000f, 3.75000f, 3.75000f, 3.75000f, 3.75000f, 3.75000f, 4.00000f, 4.00000f, 4.00000f, 4.00000f, 4.00000f, 4.00000f, 4.00000f, 4.00000f, 4.00000f, 4.00000f, 4.00000f, 4.00000f, 4.00000f, 4.00000f, 4.00000f, 4.00000f, 4.00000f, 4.00000f, 4.00000f, 4.00000f, 4.00000f, 4.00000f, 4.00000f, 4.00000f, 4.00000f, 4.00000f, 4.00000f, 4.00000f, 4.00000f, 4.00000f, 4.00000f, 4.00000f, 4.00000f, 4.00000f, 4.00000f, 4.00000f, 4.00000f, 4.00000f, 4.00000f, 4.00000f, 4.00000f, 4.00000f, 4.00000f, 4.00000f, 4.00000f, 4.00000f, 4.25000f, 4.25000f, 4.25000f, 4.25000f, 4.25000f, 4.25000f, 4.25000f, 4.25000f, 4.25000f, 4.25000f, 4.25000f, 4.25000f, 4.25000f, 4.25000f, 4.25000f, 4.25000f, 4.25000f, 4.25000f, 4.25000f, 4.25000f, 4.25000f, 4.25000f, 4.25000f, 4.25000f, 4.25000f, 4.25000f, 4.25000f, 4.25000f, 4.25000f, 4.25000f, 4.25000f, 4.25000f, 4.25000f, 4.25000f, 4.25000f, 4.50000f, 4.50000f, 4.50000f, 4.50000f, 4.50000f, 4.50000f, 4.50000f, 4.50000f, 4.50000f, 4.50000f, 4.50000f, 4.50000f, 4.50000f, 4.50000f, 4.50000f, 4.50000f, 4.50000f, 4.50000f, 4.50000f, 4.50000f, 4.50000f, 4.50000f, 4.50000f, 4.50000f, 4.50000f, 4.50000f, 4.50000f, 4.50000f, 4.50000f, 4.75000f, 4.75000f, 4.75000f, 4.75000f, 4.75000f, 4.75000f, 4.75000f, 4.75000f, 4.75000f, 4.75000f, 4.75000f, 4.75000f, 4.75000f, 4.75000f, 4.75000f, 4.75000f, 4.75000f, 4.75000f, 4.75000f, 4.75000f, 4.75000f, 4.75000f, 4.75000f, 5.00000f, 5.00000f, 5.00000f, 5.00000f, 5.00000f, 5.00000f, 5.00000f, 5.00000f, 5.00000f, 5.00000f, 5.00000f, 5.00000f, 5.00000f, 5.00000f, 5.00000f, 5.00000f, 5.00000f, 5.00000f, 5.25000f, 5.25000f, 5.25000f, 5.25000f, 5.25000f, 5.25000f, 5.25000f, 5.25000f, 5.25000f, 5.25000f, 5.25000f, 5.25000f, 5.25000f, 5.25000f, 5.25000f, 5.25000f, 5.50000f, 5.50000f, 5.50000f, 5.50000f, 5.50000f, 5.50000f, 5.50000f, 5.50000f, 5.50000f, 5.50000f, 5.50000f, 5.50000f, 5.50000f, 5.50000f, 5.75000f, 5.75000f, 5.75000f, 5.75000f, 5.75000f, 5.75000f, 5.75000f, 5.75000f, 5.75000f, 5.75000f, 5.75000f, 6.00000f, 6.00000f, 6.00000f, 6.00000f, 6.00000f, 6.00000f, 6.00000f, 6.00000f, 6.00000f, 6.00000f, 6.25000f, 6.25000f, 6.25000f, 6.25000f, 6.25000f, 6.25000f, 6.25000f, 6.25000f, 6.25000f, 6.50000f, 6.50000f, 6.50000f, 6.50000f, 6.50000f, 6.50000f, 6.50000f, 6.75000f, 6.75000f, 6.75000f, 6.75000f, 6.75000f, 6.75000f, 6.75000f, 7.00000f, 7.00000f, 7.00000f, 7.00000f, 7.00000f, 7.00000f, 7.25000f, 7.25000f, 7.25000f, 7.25000f, 7.25000f, 7.50000f, 7.50000f, 7.50000f, 7.50000f, 7.50000f, 7.75000f, 7.75000f, 7.75000f, 7.75000f, 7.75000f, 8.00000f, 8.00000f, 8.00000f, 8.00000f, 8.25000f, 8.25000f, 8.25000f, 8.25000f, 8.50000f, 8.50000f, 8.50000f, 8.50000f, 8.75000f, 8.75000f, 8.75000f, 9.00000f, 9.00000f, 9.00000f, 9.25000f, 9.25000f, 9.25000f, 9.50000f, 9.50000f, 9.50000f, 9.75000f, 9.75000f, 10.0000f, 10.0000f, 10.0000f, 10.2500f, 10.2500f, 10.2500f, 10.5000f, 10.5000f, 10.7500f, 10.7500f, 10.7500f, 11.0000f, 11.0000f, 11.2500f, 11.2500f, 11.2500f, 11.5000f, 11.5000f, 11.7500f, 11.7500f, 12.0000f, 12.0000f, 12.2500f, 12.2500f, 12.2500f, 12.5000f, 12.7500f, 12.7500f, 13.0000f, 13.0000f, 13.2500f, 13.2500f, 13.5000f, 13.5000f, 13.7500f, 13.7500f, 14.0000f, 14.0000f, 14.2500f, 14.5000f, 14.5000f, 14.7500f, 14.7500f, 15.0000f, 15.0000f, 15.2500f, 15.5000f, 15.5000f, 15.7500f, 16.0000f, 16.0000f, 16.2500f, 16.2500f, 16.5000f, 16.7500f, 16.7500f, 17.0000f, 17.2500f, 17.2500f, 17.5000f, 17.7500f, 17.7500f, 18.0000f, 18.2500f, 18.5000f, 18.5000f, 18.7500f, 19.0000f, 19.2500f, 19.2500f, 19.5000f, 19.7500f, 20.0000f, 20.2500f, 20.2500f, 20.5000f, 20.7500f, 21.0000f, 21.2500f, 21.5000f, 21.5000f, 21.7500f, 22.0000f, 22.2500f, 22.5000f, 22.7500f, 22.7500f, 23.2500f, 23.5000f, 23.5000f, 23.7500f, 24.0000f, 24.2500f, 24.5000f, 24.7500f, 25.0000f, 25.2500f, 25.5000f, 25.7500f, 26.0000f, 26.0000f, 26.2500f, 26.5000f, 26.7500f, 27.0000f, 27.2500f, 27.5000f, 28.0000f, 28.2500f, 28.2500f, 28.7500f, 29.0000f, 29.2500f, 29.5000f, 29.7500f, 30.0000f, 30.2500f, 30.5000f, 31.0000f, 31.2500f, 31.5000f, 31.7500f, 32.0000f, 32.5000f, 32.7500f, 33.2500f, 33.5000f, 33.7500f, 34.2500f, 34.7500f, 35.0000f, 35.2500f, 35.5000f, 36.2500f, 36.5000f, 37.0000f, 37.5000f, 38.0000f, 38.5000f, 39.0000f, 39.5000f, 40.0000f, 40.7500f, 41.7500f, 42.5000f, 43.5000f, 44.5000f, 45.5000f, 46.7500f, 47.7500f, 49.2500f }\n"
     ]
    }
   ],
   "source": [
    "pt_LUT"
   ]
  },
  {
   "cell_type": "markdown",
   "metadata": {},
   "source": [
    "### plot results using the generator\n",
    "generate a random index for the LUT and save it"
   ]
  },
  {
   "cell_type": "code",
   "execution_count": 10,
   "metadata": {},
   "outputs": [],
   "source": [
    "std::random_device rd;\n",
    "std::mt19937 gen(rd());\n",
    "std::uniform_int_distribution<int> uniform_dist(0, 4096);\n",
    "// int i = uniform_dist(gen);\n",
    "\n",
    "int N = 1.5e6;\n",
    "std::vector<float> pt_gen;\n",
    "\n",
    "for(int i=0; i<N; i++){\n",
    "    int idx = uniform_dist(gen);\n",
    "    pt_gen.push_back(pt_LUT[idx]);\n",
    "\n",
    "}"
   ]
  },
  {
   "cell_type": "code",
   "execution_count": 11,
   "metadata": {},
   "outputs": [
    {
     "data": {
      "image/png": "[encoded data removed]",
      "text/plain": [
       "<IPython.core.display.Image object>"
      ]
     },
     "metadata": {},
     "output_type": "display_data"
    },
    {
     "name": "stderr",
     "output_type": "stream",
     "text": [
      "Warning in <TCanvas::Constructor>: Deleting canvas with same name: c1\n",
      "Warning in <TROOT::Append>: Replacing existing TH1: hist (Potential memory leak).\n"
     ]
    }
   ],
   "source": [
    "auto c1 = new TCanvas(\"c1\", \"c1\", 800,600);\n",
    "\n",
    "TH1F* hist_gen = new TH1F(\"hist\", \"Gen pt; \", 192, 2, 50 ); //GeV\n",
    "for (const auto &p : pt_gen){\n",
    "    hist_gen->Fill(p);\n",
    "}\n",
    "\n",
    "hist_gen -> SetLineColor(kAzure+2);\n",
    "hist_gen -> SetLineWidth(2);\n",
    "\n",
    "auto legend = new TLegend(0.12,0.78,0.28,0.9); // (x1, y1, x2, y2)\n",
    "legend->SetHeader(\"pt distributions\", \"C\"); // option \"C\" allows to center the header\n",
    "legend->AddEntry(hist_pt,  \"MC\", \"f\");\n",
    "legend->AddEntry(hist_gen, \"generated\", \"f\");\n",
    "\n",
    "hist_gen->Draw();\n",
    "hist_pt->Draw(\"same\");\n",
    "c1->SetLogy();\n",
    "legend->Draw();\n",
    "c1->Draw();"
   ]
  },
  {
   "cell_type": "markdown",
   "metadata": {},
   "source": [
    "Recall that we can't generate more than 2048 different pt values, from construction. we have max 2048 values in the LUT, i.e. of the $cdf^-1$"
   ]
  },
  {
   "cell_type": "markdown",
   "metadata": {},
   "source": [
    "## $\\eta$ generator\n",
    "is a simple uniform number generation of $-2.4 < \\eta < 2.4$, i.e. the acceptance of CMS"
   ]
  },
  {
   "cell_type": "code",
   "execution_count": 12,
   "metadata": {},
   "outputs": [
    {
     "data": {
      "image/png": "[encoded data removed]",
      "text/plain": [
       "<IPython.core.display.Image object>"
      ]
     },
     "metadata": {},
     "output_type": "display_data"
    },
    {
     "name": "stderr",
     "output_type": "stream",
     "text": [
      "Warning in <TROOT::Append>: Replacing existing TH1: hist (Potential memory leak).\n",
      "Warning in <TCanvas::Constructor>: Deleting canvas with same name: c1\n"
     ]
    }
   ],
   "source": [
    "auto gen_eta   = df.Take<ROOT::VecOps::RVec<Float_t>>(\"L1Puppi_eta\").GetValue();\n",
    "std::vector<double> etas;\n",
    "\n",
    "for (const auto& etai : gen_eta) {\n",
    "    etas.insert(etas.end(), etai.begin(), etai.end());\n",
    "}\n",
    "\n",
    "TH1F* hist_geneta = new TH1F(\"hist\", \"L1Puppi eta; eta (GeV)\", 200, -10, 10); //GeV\n",
    "for (const auto &e : etas){\n",
    "    /*if(abs(e)<=2.4)*/ hist_geneta->Fill(e);\n",
    "}\n",
    "\n",
    "auto c1 = new TCanvas(\"c1\", \"c1\", 800,600);\n",
    "\n",
    "hist_geneta->Draw();\n",
    "c1->Draw();"
   ]
  },
  {
   "cell_type": "code",
   "execution_count": 13,
   "metadata": {},
   "outputs": [
    {
     "name": "stdout",
     "output_type": "stream",
     "text": [
      "the max value of eta is:5.03125\n",
      "the min value of eta is:-5.03125\n"
     ]
    }
   ],
   "source": [
    "cout << \"the max value of eta is:\" << *max_element(etas.begin(),etas.end()) << endl;\n",
    "cout << \"the min value of eta is:\" << *min_element(etas.begin(),etas.end()) << endl;"
   ]
  },
  {
   "cell_type": "code",
   "execution_count": 14,
   "metadata": {},
   "outputs": [
    {
     "name": "stdout",
     "output_type": "stream",
     "text": [
      "(std::vector<int> &) { -63, -45, 460, -5, 243, -227, 233, -50, 297, -140, 493, -5, 495, -517, 148, -355, -549, -494, -427, -306, -374, -486, -451, 91, 68, -227, 107, -344, -89, -518, 155, -463, -377, -45, 459, -13, -529, 307, 389, -131, -503, 234, -343, 283, -510, 292, -376, 310, 480, 548, -170, 256, -388, -108, 267, -226, -35, 481, -243, 265, 93, 359, -350, 466, -470, -267, 27, 489, 356, 270, -448, 425, 505, -197, -494, 47, -79, 513, -75, -58, 240, -395, -532, -281, 513, -438, -459, -97, -372, 481, 390, 204, -412, -369, 246, 155, -67, 474, 269, -58, -163, -177, -478, -387, 402, -481, 178, 82, 75, -513, 148, -435, 230, 281, 346, -149, -416, 438, -199, -10, -307, -69, -449, -16, -210, 462, -276, 124, -460, -108, -251, -339, 412, -24, 107, -35, 194, 404, -549, -267, -361, 27, 498, 395, 197, -355, 296, -306, 478, 225, 1, -537, -147, -440, -365, 446, -451, 536, 91, 0, 160, 345, 448, -121, 175, 381, -221, 253, 332, -8, -95, 194, 402, -416, -195, 525, 343, 159, -297, -123, 425, -339, -90, -269, -432, -438, -264, 121, 135, -351, -476, 77, -405, -311, -111, 530, 338, -17, -396, 427, 179, -229, -85, 118, -221, 481, -349, -26, -62, 435, -201, -145, 169, -531, -108, 430, 377, 393, 514, -254, 546, -320, 278, -118, 283, -405, -281, 52, 13, -115, 437, -140, -117, 12, 280, 309, -495, -72, 3, 73, -534, -535, 156, 437, -250, -312, 207, 52, 229, -201, 253, 66, -32, 248, -438, 41, 512, 458, -224, 103, 384, -238, -17, 328, -203, 42, 215, 21, -494, -385, -62, -345, 158, -274, 216, -439, 132, 191, -184, -52, -8, 159, -53, 57, 181, -543, -421, 242, -340, -237, -392, -295, 313, -260, -210, 194, -353, -391, 386, -174, 362, 140, -255, 288, -290, -230, -13, 23, 83, 211, 492, 302, -180, 385, -108, -369, -127, -8, -525, 130, 3, 177, -55, -530, -198, -232, 316, -539, -337, 537, 73, 4, 34, -172, 44, 542, 132, -422, 23, -54, -474, -31, 211, 191, 545, -315, 104, -445, 20, -310, 227, -204, 166, 433, -500, 532, -484, 392, -25, 460, 211, -437, 513, -367, 112, 31, 21, -494, -464, 525, -446, -460, -493, 492, -227, -465, -392, 422, -225, 60, -183, 99, 493, 172, -203, -426, -171, -3, 393, 203, 117, 312, -36, -304, 424, -126, -488, -193, -525, 238, -394, 450, -293, -113, 97, 64, -390, 404, 303, 498, 7, -24, -505, -530, -249, 198, -425, -59, 356, 391, -102, -549, 320, -390, 428, -104, -445, 372, -170, 17, -390, 374, 176, 168, 344, -396, -281, -52, 166, -445, -386, 348, 238, 548, -549, 413, -246, 380, 369, -365, 340, 80, 501, -518, 204, 122, 427, 38, -56, 273, -346, -279, -526, 265, 308, 523, 76, -21, -355, -343, 382, 324, -443, 468, 57, 285, 84, 145, 225, 242, 0, 255, 516, -527, 214, -461, 339, -140, 3, 159, -257, 469, 448, 274, -375, 15, 155, 22, -210, -269, 369, -192, 389, -50, -356, 244, -339, -237, -73, 317, 421, 289, 468, -119, -332, 539, -377, -195, 96, -254, 246, 255, 534, 456, 9, 453, 472, 76, 537, -327, 302, -360, -26, -23, 31, 355, -151, -500, 533, -475, 542, 361, 313, 357, 334, -39, 173, 508, -167, -235, 241, -513, -492, -541, 105, -101, 485, -142, -252, 61, -486, 154, 459, 33, 401, -127, -190, -182, -424, 93, 540, 546, 417, 313, -272, -112, 180, 361, 338, -57, 299, 232, 514, 516, 37, -511, -68, -5, -263, -264, -196, 132, 427, 167, -343, -248, -391, 411, -58, -463, -269, -443, 65, 20, -280, -205, -273, -169, -237, 85, -413, -375, -261, -455, -373, 487, -281, 504, -310, 43, -301, 324, -340, 314, 208, 215, 50, 402, -243, -319, 493, 387, -41, 178, -141, 260, 156, -66, -133, -23, 23, 301, -375, -270, -473, 58, 246, 31, 343, 90, 435, -506, 320, 326, -52, -193, 316, -375, 321, 228, 23, 202, 92, -340, 548, -140, -179, -141, 252, 443, 179, -260, 266, 38, 161, -260, 346, 456, -516, -375, -544, -374, -62, 193, 13, -4, 221, -96, -456, 46, -233, 73, 15, -319, -403, 402, 133, -538, 415, 536, 175, 532, 353, 147, 517, -27, -507, -16, -267, -208, 450, 50, 88, -485, -292, -433, 162, -92, 237, 210, -451, 36, 384, 63, 395, 92, 35, -22, -509, -53, -397, 378, 458, 319, -475, 249, 116, 131, 324, 508, -14, 182, -240, 467, -1, 434, 525, 378, -121, 282, -267, -463, 415, 236, -458, 292, 1, 70, 472, -138, 240, -32, -23, 455, -445, -178, 301, -501, -41, 22, 238, -20, -456, -330, 336, -120, 438, 357, 203, -415, 234, -111, -366, 262, 232, -312, 459, -335, -231, -96, 308, 23, -524, -136, 398, 350, -133, -426, -460, 57, 382, 450, -273, 58, -497, -375, -83, 476, 395, -108, -380, -69, 527, -348, 159, -211, 459, -286, -501, 285, 277, -293, -352, -370, -41, -237, -535, 385, -440, -450, 484, -451, 327, -336, 253, -227, 324, -208, 156, -265, 446, 86, 533, -324, -69, 526, -289, -40, -413, -246, -500, 530, 78, 510, -427, 18, 111, -175, 469, -499, 79, 502, -400, 65, 132, 273, -374, 293, -118, 25, -360, -480, 185, -321, 177, -406, 433, 278, -421, -319, 378, -318, 94, -5, -474, -73, -345, -122, -276, 95, 68, -315, 166, -389, 154, -454, 494, 147, 52, -268, 513, -480, -242, -272, -396, -52, 543, 184, -81, -149, -357, 234, -371, -430, -223, 176, 159, -488, 357, -434, 483, -258, -214, -372, -516, -370, 46, 302, -463, -194, 214, -38, -398, 230, 122, 362, -247, 230, 309, -269, 222, 504, -283, 149, 235, 470, -140, 479, 292, -493, -348, 107, 484, 12, 465, 516, -488, 312, -123, -527, 29, -47, 246, 204, 492, 129, 468, -94, -221, 72, 35, 252, -148, 208, 46, 277, -499, -523, 339, -17, -130, -28, 155, 154, 486, 437, -18, 345, -411, 32, 62, -249, -222, 513, -378, -493, -519, -453, 111, -452, 181, 108, -199, -83, 254, -70, -211, -473, 484, -387, -208, -489, -404, 180, 4, -86, 72, 34, -235, 346, 79, 198, -120 }\n"
     ]
    }
   ],
   "source": [
    "int N = 1023;\n",
    "std::vector<int> eta_gen;\n",
    "float gran = ROOT::Math::Pi()/720;\n",
    "// int int_eta = static_cast<int>(ph / gran) * gran\n",
    "for(int i=0; i<N;i++){\n",
    "    std::random_device rd;\n",
    "    std::mt19937 gen(rd());\n",
    "    std::uniform_real_distribution<float> uniform_dist(0.0, 1.0);\n",
    "    float ph=(2*uniform_dist(gen)*2.4) - 2.4;\n",
    "    eta_gen.push_back(static_cast<int>(ph / gran));\n",
    "}\n",
    "eta_gen"
   ]
  },
  {
   "cell_type": "code",
   "execution_count": 15,
   "metadata": {},
   "outputs": [
    {
     "name": "stdout",
     "output_type": "stream",
     "text": [
      "max value of generated eta: 2.3911\n",
      "min value of generated eta: -2.39546\n"
     ]
    }
   ],
   "source": [
    "cout << \"max value of generated eta: \" << *max_element(eta_gen.begin(), eta_gen.end()) * gran << endl;\n",
    "cout << \"min value of generated eta: \" << *min_element(eta_gen.begin(), eta_gen.end()) * gran << endl;"
   ]
  },
  {
   "cell_type": "markdown",
   "metadata": {},
   "source": [
    "## $\\phi$ generator\n",
    "same as $\\eta$ but the interval is: $-\\pi < \\phi < \\pi$"
   ]
  },
  {
   "cell_type": "code",
   "execution_count": 16,
   "metadata": {},
   "outputs": [
    {
     "data": {
      "image/png": "[encoded data removed]",
      "text/plain": [
       "<IPython.core.display.Image object>"
      ]
     },
     "metadata": {},
     "output_type": "display_data"
    },
    {
     "name": "stderr",
     "output_type": "stream",
     "text": [
      "Warning in <TROOT::Append>: Replacing existing TH1: hist (Potential memory leak).\n",
      "Warning in <TCanvas::Constructor>: Deleting canvas with same name: c1\n"
     ]
    }
   ],
   "source": [
    "auto gen_phi   = df.Take<ROOT::VecOps::RVec<Float_t>>(\"L1Puppi_phi\").GetValue();\n",
    "std::vector<double> phis;\n",
    "\n",
    "for (const auto& phii : gen_phi) {\n",
    "    phis.insert(phis.end(), phii.begin(), phii.end());\n",
    "}\n",
    "\n",
    "TH1F* hist_genphi = new TH1F(\"hist\", \"L1Puppi phi; pion phi (GeV)\", 200, -10, 10); //GeV\n",
    "for (const auto &e : phis){\n",
    "    hist_genphi->Fill(e);\n",
    "}\n",
    "auto c1 = new TCanvas(\"c1\", \"c1\", 800,600);\n",
    "hist_genphi->Draw();\n",
    "c1->Draw();"
   ]
  },
  {
   "cell_type": "code",
   "execution_count": 17,
   "metadata": {},
   "outputs": [
    {
     "name": "stdout",
     "output_type": "stream",
     "text": [
      "(std::vector<int> &) { 86, -208, -551, -422, 236, 180, 300, 246, 223, -613, -85, 165, -369, -297, -330, 29, 136, -337, 693, -417, 535, -101, 223, -661, 653, -409, -60, 508, -78, -79, 604, 206, 40, -621, -589, 208, -144, -78, -199, -625, -361, -138, -255, 17, 442, -628, 395, 476, 192, 181, -689, 676, -393, 343, 170, -233, -414, 111, 689, 43, 569, 603, -113, 23, -216, 129, -140, -299, -522, 719, 174, -131, -41, -329, 107, -252, -301, -371, 389, 30, 459, -2, 316, -133, 306, 566, -657, -455, 10, 660, -277, -275, 86, 670, -2, -110, 3, 105, -75, 415, -579, 63, -542, 57, -294, -660, -85, 412, 449, 384, 427, 707, 421, 226, -562, -298, 197, 683, 11, 455, -443, 483, -73, -71, -228, 295, 165, 63, 73, 609, -557, -284, 91, -212, 407, 54, -145, -415, -663, -41, 46, -478, -171, 343, 385, -279, -9, -585, -516, -76, 479, -591, 421, -369, 73, 165, -468, -487, -701, 277, -290, -677, 479, 256, 254, 31, -667, 197, -469, 61, -605, -382, -105, 635, 186, -332, 575, -20, 93, 612, 299, 404, 609, 423, -311, -358, 364, -365, -289, -54, 226, -716, 145, -156, 690, -371, -60, -65, 76, 414, -95, -164, -543, 29, -665, -628, 702, 516, -364, 215, -561, -248, -279, 157, 340, -391, -676, 188, -303, 357, 290, -30, 442, -618, 401, 94, 511, 269, -293, -319, -339, -73, -89, -344, 626, 182, 289, 718, 677, -91, 21, -204, -227, -589, 673, 53, 439, 421, 705, 706, -507, 412, -502, -1, 354, -60, -664, -469, -157, -564, 115, 25, 358, -215, 717, -592, 554, 538, -292, 320, 21, -411, -108, -14, -569, 705, 460, 44, -648, -431, 348, 663, -192, 441, 183, -139, 336, -628, -718, 273, -579, 163, 688, -351, -655, -630, -585, -572, 204, 446, 191, 694, -257, 450, 567, -719, -430, -681, -158, 7, -616, -182, -443, -297, -347, -302, -14, 81, -335, 535, 502, -669, 628, -561, -201, -410, 658, -497, 684, -3, 489, -247, -597, -521, 218, -229, 295, 398, -695, -304, 523, 482, 186, 578, 635, 551, 28, 66, -204, 410, -116, 174, -406, -501, 512, -58, 371, 270, -668, 311, -675, -373, 660, -636, 441, -444, -392, 35, 451, -456, -178, -417, 142, -492, 341, -538, -243, -519, 263, -14, -98, -311, 654, 530, -304, 55, 508, -191, -413, -472, 583, 616, 550, 63, -99, 167, 681, -316, 276, 578, 564, -157, -682, -442, 312, -109, -25, 23, -672, -488, 148, 337, 302, 449, -471, -573, -131, -402, -628, 52, -596, 322, 85, -179, -524, -243, -699, -230, 329, -569, 437, 646, -84, 565, -578, -403, -196, -146, 427, 271, -363, 508, 519, -656, -9, 542, -74, -222, 439, 683, 472, -456, 561, 201, 397, 195, -527, -397, -427, 202, 598, 507, 308, -443, -659, -569, 37, 666, 37, -607, 128, -662, 128, -639, -11, 433, -120, -719, -599, -320, -278, -211, 212, 451, -286, -619, -174, 155, 473, -595, -298, 180, -533, 692, -682, 496, -514, 557, 640, -92, 257, -577, -352, -504, -476, 290, -679, 651, 288, -132, -105, 215, 533, -41, -31, 176, -560, 132, 478, -219, -486, 530, 479, -241, 132, -537, -353, -595, 44, 444, 180, 74, 87, -692, -549, 328, -409, -459, -566, -229, 557, -537, -536, -394, 18, -452, -520, 616, -585, 633, 223, -544, 425, -683, 265, 649, -202, -101, 202, -387, 364, -41, -460, -17, 630, -490, -669, 107, 270, -334, 591, 529, 715, -655, 711, 176, 78, 453, -285, -64, -711, 312, 435, -84, 443, 75, 359, -221, -589, -321, -611, -709, -533, -71, 46, -572, -581, 418, 352, -134, -203, -20, -60, -502, 403, 102, -98, 155, -659, -53, 364, -714, 90, -460, 369, -89, 210, 563, 494, -429, 524, 520, 667, 502, -640, 181, -12, -571, 128, 567, 251, -468, 624, 464, -243, 704, -680, 374, -139, 69, -583, 437, 410, -229, 161, -667, -366, 194, 682, 87, 476, 59, 323, -574, 218, 372, 7, -398, 287, 266, -61, 507, 348, 437, -242, -69, -701, 6, -261, 113, -211, -315, -339, 642, 519, 71, 205, 639, -201, -592, -624, -447, 302, -525, 16, 22, -589, -476, -549, 715, -324, 71, -621, 395, -358, -457, -394, 562, 364, 89, -89, 89, 488, 134, -692, -358, -613, -705, -434, -438, -127, -48, 698, -377, 114, 388, 394, 28, -513, -256, -704, 277, 587, -410, 266, -339, -467, 409, 54, -476, -582, -541, 441, -574, 135, 712, -28, -354, 108, 514, 111, -142, 125, -483, 634, 655, 20, 603, -252, 570, 142, 583, -686, 406, 714, 115, -312, -256, -351, -366, 492, 181, -140, 208, 330, -134, 563, -651, 6, 536, 466, -8, -107, -661, 308, 696, -205, -234, -595, 668, 525, -548, -232, -259, 343, 525, 219, -400, -718, 371, 6, 558, -198, 577, 362, -375, -642, 101, -186, 573, 497, -654, -687, 600, -431, 38, 131, 246, 162, 159, 421, 583, -97, -718, -705, -276, -182, 8, -587, 594, -131, 302, -561, -654, -12, 280, 287, -415, -292, -346, 313, -479, 511, 645, -455, 373, 535, -230, -8, 680, 629, 492, 34, 334, -702, 261, 573, 88, 468, -453, -554, 282, 125, 644, -103, -397, 273, -388, 388, -621, -718, -18, 159, -528, -337, 514, -564, -304, -636, -408, 149, -364, -34, -479, -537, 286, 16, -82, 277, 69, -10, 649, 350, 648, -53, -320, -364, -341, -218, 515, 51, -231, -275, -74, 475, 147, 108, 138, -445, -406, 256, -398, 234, 38, -511, -143, 503, 191, 24, -220, 115, 452, 541, -301, -233, 39, -9, 680, -8, -442, -309, -307, 584, -539, -245, 480, 131, 142, -10, 372, 103, 314, -635, -300, 76, 268, -482, -616, -180, -5, 201, 651, -274, 574, 115, -202, 344, -190, 601, -66, -300, 279, 23, -413, 232, -428, 466, 656, -296, -325, 207, 523, -173, 558, 348, 169, -669, -10, 112, 127, -178, -498, 658, 603, 655, -89, -341, 667, 292, -112, 643, -368, -208, -687, 531, -145, 545, 410, -346, 430, 240, 133, -366, -434, 87, 15, 108, 521, -336, -536, 550, -484, -77, -241, 595, 120, 144, -547, -647, -276, -658, -646, 489, -153, 33, -261, 154, 157, -230, -672, 665, -557, 220 }\n"
     ]
    }
   ],
   "source": [
    "int N = 1023;\n",
    "std::vector<int> phi_gen;\n",
    "float gran = ROOT::Math::Pi()/720;\n",
    "// int int_phi = static_cast<int>(ph / gran) * gran\n",
    "for(int i=0; i<N;i++){\n",
    "    std::random_device rd;\n",
    "    std::mt19937 gen(rd());\n",
    "    std::uniform_real_distribution<float> uniform_dist(0.0, 1.0);\n",
    "    float ph=(2*uniform_dist(gen)*ROOT::Math::Pi()) - ROOT::Math::Pi();\n",
    "    phi_gen.push_back(static_cast<int>(ph / gran));\n",
    "}\n",
    "phi_gen"
   ]
  },
  {
   "cell_type": "code",
   "execution_count": 18,
   "metadata": {},
   "outputs": [
    {
     "name": "stdout",
     "output_type": "stream",
     "text": [
      "3.13723\n",
      "-3.13723\n"
     ]
    }
   ],
   "source": [
    "cout << *max_element(phi_gen.begin(), phi_gen.end()) * gran << endl;\n",
    "cout << *min_element(phi_gen.begin(), phi_gen.end()) * gran << endl;"
   ]
  },
  {
   "cell_type": "markdown",
   "metadata": {},
   "source": [
    "## PID\n",
    "generator based on the cdf, i.e. the frequentist probabilities of the type of particles"
   ]
  },
  {
   "cell_type": "code",
   "execution_count": 19,
   "metadata": {},
   "outputs": [
    {
     "data": {
      "image/png": "[encoded data removed]",
      "text/plain": [
       "<IPython.core.display.Image object>"
      ]
     },
     "metadata": {},
     "output_type": "display_data"
    },
    {
     "name": "stderr",
     "output_type": "stream",
     "text": [
      "Warning in <TROOT::Append>: Replacing existing TH1: hist (Potential memory leak).\n",
      "Warning in <TCanvas::Constructor>: Deleting canvas with same name: c1\n"
     ]
    }
   ],
   "source": [
    "auto gen_id   = df.Take<ROOT::VecOps::RVec<Int_t>>(\"L1Puppi_pdgId\").GetValue();\n",
    "std::vector<double> ids;\n",
    "\n",
    "for (const auto& idi : gen_id) {\n",
    "    ids.insert(ids.end(), idi.begin(), idi.end());\n",
    "}\n",
    "\n",
    "TH1F* hist_genid = new TH1F(\"hist\", \"L1Puppi id; pion id (GeV)\", 500, -250, 250); //GeV\n",
    "for (const auto &id : ids){\n",
    "    hist_genid->Fill(id);\n",
    "}\n",
    "auto c1 = new TCanvas(\"c1\", \"c1\", 800,600);\n",
    "hist_genid->Draw();\n",
    "c1->Draw();"
   ]
  },
  {
   "cell_type": "code",
   "execution_count": 20,
   "metadata": {},
   "outputs": [
    {
     "name": "stdout",
     "output_type": "stream",
     "text": [
      "fraction of pion- :0.420582\n",
      "fraction of pion+ :0.430078\n",
      "fraction of muon- :0.00400825\n",
      "fraction of muon+ :0.00408468\n",
      "fraction of electron :0.00624753\n",
      "fraction of positron :0.00686105\n",
      "fraction of photon :0.0585283\n",
      "fraction of neutral_pion :0.0696097\n",
      "\n",
      "probailities * 1000, to put in the cdf (integer)\n",
      "fraction of pion :850.661\n",
      "fraction of muon+ :8.09293\n",
      "fraction of electron :13.1086\n",
      "fraction of photon :58.5283\n",
      "fraction of neutral_pion :69.6097\n"
     ]
    }
   ],
   "source": [
    "std::vector<int> photon; //22\n",
    "std::vector<int> n_muon; std::vector<int> p_muon; //13\n",
    "std::vector<int> electron; std::vector<int> positron; //11\n",
    "std::vector<int> n_pion; std::vector<int> p_pion; //211\n",
    "std::vector<int> neutral_pion; //130\n",
    "\n",
    "for(int i=0; i<ids.size();i++){\n",
    "    //pi+-\n",
    "    if(ids[i]==(-211)) n_pion.push_back(i);\n",
    "    if(ids[i]==211) p_pion.push_back(i);\n",
    "    //e+-\n",
    "    if(ids[i]==(-11))  electron.push_back(i);\n",
    "    if(ids[i]==11)  positron.push_back(i);\n",
    "    //mu+-\n",
    "    if(ids[i]==(-13))  n_muon.push_back(i);\n",
    "    if(ids[i]==13)  p_muon.push_back(i);\n",
    "    //ph npi\n",
    "    if(ids[i]==22)  photon.push_back(i);\n",
    "    if(ids[i]==130) neutral_pion.push_back(i);\n",
    "}\n",
    "\n",
    "float N=ids.size();\n",
    "float n_pi_frac  = (float)n_pion.size()/N;\n",
    "float p_pi_frac  = (float)p_pion.size()/N;\n",
    "float e_frac   = (float)electron.size()/N;\n",
    "float p_frac   = (float)positron.size()/N;\n",
    "float n_mu_frac  = (float)n_muon.size()/N;\n",
    "float p_mu_frac  = (float)p_muon.size()/N;\n",
    "float ph_frac  = (float)photon.size()/N;\n",
    "float npi_frac = (float)neutral_pion.size()/N;\n",
    "\n",
    "cout << \"fraction of pion- :\" << n_pi_frac << endl;\n",
    "cout << \"fraction of pion+ :\" << p_pi_frac << endl;\n",
    "\n",
    "cout << \"fraction of muon- :\" << n_mu_frac << endl;\n",
    "cout << \"fraction of muon+ :\" << p_mu_frac << endl;\n",
    "cout << \"fraction of electron :\" << e_frac << endl;\n",
    "cout << \"fraction of positron :\" << p_frac << endl;\n",
    "cout << \"fraction of photon :\" << (float)photon.size()/N << endl;\n",
    "cout << \"fraction of neutral_pion :\" << (float)neutral_pion.size()/N << endl;\n",
    "\n",
    "printf(\"\\nprobailities * 1000, to put in the cdf (integer)\\n\");\n",
    "cout << \"fraction of pion :\" << (n_pi_frac + p_pi_frac)*1000 << endl;\n",
    "cout << \"fraction of muon+ :\" << (p_mu_frac+n_mu_frac)*1000 << endl;\n",
    "cout << \"fraction of electron :\" << (e_frac+p_frac)*1000 << endl;\n",
    "cout << \"fraction of photon :\" << (float)photon.size()/N *1000<< endl;\n",
    "cout << \"fraction of neutral_pion :\" << (float)neutral_pion.size()/N *1000<< endl;"
   ]
  },
  {
   "cell_type": "code",
   "execution_count": 21,
   "metadata": {},
   "outputs": [],
   "source": [
    "std::vector<float> particle_prob;\n",
    "particle_prob.push_back(n_pi_frac); particle_prob.push_back(p_pi_frac); particle_prob.push_back(p_mu_frac); particle_prob.push_back(n_mu_frac);\n",
    "particle_prob.push_back(e_frac); particle_prob.push_back(p_frac); particle_prob.push_back(ph_frac); particle_prob.push_back(npi_frac);\n",
    "\n",
    "// std::vector<float> cdf;\n",
    "// cdf.push_back(n_pi_frac*1000);\n",
    "// for(int k=1; k<8; k++){\n",
    "//     cdf.push_back((cdf[k-1]+particle_prob[k] * 1000)  );\n",
    "// }\n",
    "// std::cout << \"cdf of pid\" << cdf;"
   ]
  },
  {
   "cell_type": "code",
   "execution_count": 22,
   "metadata": {},
   "outputs": [],
   "source": [
    "int id_generator(float p, std::vector<float> particle_prob){    \n",
    "    //input: prob[0,1] and particle_prob(pdf)\n",
    "\n",
    "    std::vector<float> cdf;\n",
    "    cdf.push_back(n_pi_frac);\n",
    "    for(int k=1; k<8; k++){\n",
    "        cdf.push_back(cdf[k-1]+particle_prob[k]);\n",
    "    }\n",
    "    int p_id_gen;\n",
    "    if(p <= cdf[0]) p_id_gen= -211; // n_pion\n",
    "    if(p>cdf[0] && p<= cdf[1]) p_id_gen = 211; // n_pion\n",
    "\n",
    "    if(p>cdf[1] && p<= cdf[2]) p_id_gen = -13; \n",
    "    if(p>cdf[2] && p<= cdf[3]) p_id_gen = 13;\n",
    "\n",
    "    if(p>cdf[3] && p<= cdf[4]) p_id_gen = -11; \n",
    "    if(p>cdf[4] && p<= cdf[5]) p_id_gen = 11; \n",
    "\n",
    "    if(p>cdf[5] && p<= cdf[6]) p_id_gen = 22; \n",
    "    if(p>cdf[6] && p<= cdf[7]) p_id_gen = 130; \n",
    "\n",
    "    return p_id_gen;\n",
    "}"
   ]
  },
  {
   "cell_type": "code",
   "execution_count": null,
   "metadata": {
    "vscode": {
     "languageId": "plaintext"
    }
   },
   "outputs": [],
   "source": []
  },
  {
   "cell_type": "markdown",
   "metadata": {},
   "source": [
    "## Uniform random generator"
   ]
  },
  {
   "cell_type": "code",
   "execution_count": 23,
   "metadata": {},
   "outputs": [],
   "source": [
    "class Xoshiro256ssRef {\n",
    "  public:\n",
    "\n",
    "    Xoshiro256ssRef() {}\n",
    "\n",
    "    uint64_t rol64(uint64_t x, int k) { return (x << k) | (x >> (64 - k)); }\n",
    "\n",
    "    uint64_t operator()(bool setseed, uint64_t seed) {\n",
    "      uint64_t const result = rol64(state[1] * 5, 7) * 9;\n",
    "      if (setseed) {\n",
    "        state[0] = seed ^ 0x6b54c6575a2c794b;\n",
    "        state[1] = rol64(seed, 13) ^ 0x514e9359bb2950cb;\n",
    "        state[2] = rol64(seed, 27) ^ 0xc62c17550e3d1904;\n",
    "        state[3] = rol64(seed, 42) ^ 0xf47e648fdd3da813;\n",
    "      } else {\n",
    "        uint64_t const t = state[1] << 17;\n",
    "        state[2] ^= state[0];\n",
    "        state[3] ^= state[1];\n",
    "        state[1] ^= state[2];\n",
    "        state[0] ^= state[3];\n",
    "        state[2] ^= t;\n",
    "        state[3] = rol64(state[3], 45);\n",
    "      }\n",
    "      return result;\n",
    "    }\n",
    "\n",
    "  private:\n",
    "    uint64_t state[4] = { 0, 0, 0, 0 };\n",
    "};\n"
   ]
  },
  {
   "cell_type": "code",
   "execution_count": 25,
   "metadata": {},
   "outputs": [
    {
     "name": "stdout",
     "output_type": "stream",
     "text": [
      "0\n",
      "Numero casuale: 228186659\n",
      "Numero casuale: 228186659\n",
      "Numero casuale: 2164669990\n",
      "Numero casuale: 3414007603\n",
      "Numero casuale: 3528548462\n",
      "Numero casuale: 2302826572\n",
      "Numero casuale: 4175837934\n",
      "Numero casuale: 899657388\n",
      "Numero casuale: 2096624682\n",
      "Numero casuale: 2533326211\n",
      "Numero casuale: 3601906094\n"
     ]
    }
   ],
   "source": [
    "Xoshiro256ssRef X;\n",
    "uint64_t n = X(true, 123456789);\n",
    "cout << n << endl;\n",
    "\n",
    "Xoshiro256ssRef rng;\n",
    "uint64_t seed = 123456;\n",
    "rng(true, seed);\n",
    "// unsigned int random_number = rng(false, 0);\n",
    "unsigned int random_number = rng(true, seed);\n",
    "std::cout << \"Numero casuale: \" << random_number << std::endl;\n",
    "\n",
    "for(int i=0;i<10;i++){\n",
    "    unsigned int random_number = rng(false,0);\n",
    "    std::cout << \"Numero casuale: \" << random_number << std::endl;\n",
    "}"
   ]
  },
  {
   "cell_type": "code",
   "execution_count": null,
   "metadata": {},
   "outputs": [],
   "source": []
  }
 ],
 "metadata": {
  "kernelspec": {
   "display_name": "ROOT C++",
   "language": "c++",
   "name": "root"
  },
  "language_info": {
   "codemirror_mode": "text/x-c++src",
   "file_extension": ".C",
   "mimetype": " text/x-c++src",
   "name": "c++"
  },
  "orig_nbformat": 4
 },
 "nbformat": 4,
 "nbformat_minor": 2
}
