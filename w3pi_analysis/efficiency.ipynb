{
 "cells": [
  {
   "cell_type": "code",
   "execution_count": 1,
   "metadata": {},
   "outputs": [],
   "source": [
    "#include \"ROOT/RDataFrame.hxx\"\n",
    "#include \"ROOT/RVec.hxx\"\n",
    "#include <ROOT/RLogger.hxx>\n",
    "#include \"TCanvas.h\"\n",
    "#include \"TFile.h\"\n",
    "#include \"TH1D.h\"\n",
    "#include \"TLegend.h\"\n",
    "//cpp\n",
    "#include <vector>\n",
    "#include <iostream>\n",
    "#include <cstdlib>\n",
    "#include <cstdio>\n",
    "#include <string>\n",
    "#include <Math/GenVector/LorentzVector.h>\n",
    "#include <Math/GenVector/PtEtaPhiM4D.h>\n",
    "#include <stdlib.h>\n",
    "#include <math.h>\n",
    "#include <TH1.h>\n",
    "\n",
    "template <typename T> using Vec = ROOT::RVec<T>; \n",
    "\n",
    "auto RecoTriplet(Vec<float> gen_pt, Vec<float> gen_eta, Vec<float> gen_phi, Vec<int> gen_charge,\n",
    "                 Vec<float> puppi_pt, Vec<float> puppi_eta, Vec<float> puppi_phi, Vec<int> puppi_charge, Vec<int> puppi_pdg){\n",
    "    Vec<int> puppi_pdg_idx;\n",
    "    Vec<size_t> PG_idx;\n",
    "    Vec<size_t> G_idx;\n",
    "    //          PGD             //\n",
    "    for(int i = 0; i < puppi_pdg.size(); ++i) { //make list of pions or electron\n",
    "        if (abs(puppi_pdg[i]) == 211 || abs(puppi_pdg[i]) == 11) puppi_pdg_idx.push_back(i);\n",
    "        // puppi_pdg_idx.push_back(i);\n",
    "    }\n",
    "    //          DELTA R             //\n",
    "    for(std::size_t i=0; i<gen_pt.size(); i++){\n",
    "        Vec<float> dr_vec;\n",
    "        if(puppi_pdg_idx.size()==0) continue;\n",
    "        for(size_t j : puppi_pdg_idx){\n",
    "            float DR = ROOT::VecOps::DeltaR(gen_eta[i], puppi_eta[j], gen_phi[i], puppi_phi[j]);\n",
    "            dr_vec.push_back(DR);\n",
    "        }\n",
    "        if(dr_vec.size()==0) continue;\n",
    "        auto min_it = std::min_element(dr_vec.begin(), dr_vec.end());  // iteratore all'elemento minimo\n",
    "        int min_idx = std::distance(dr_vec.begin(), min_it);      // indice dell'elemento minimo\n",
    "        if(dr_vec[min_idx]<0.1) {\n",
    "            PG_idx.push_back(puppi_pdg_idx[min_idx]);\n",
    "            G_idx.push_back(i);\n",
    "        }\n",
    "    }\n",
    "    //          PT             //\n",
    "    for(std::size_t k=0; k<PG_idx.size(); k++){\n",
    "        if(puppi_pt[PG_idx[k]] <= gen_pt[G_idx[k]]/2 || puppi_pt[PG_idx[k]] >= 2*gen_pt[G_idx[k]]){\n",
    "            PG_idx.erase(PG_idx.begin() + k);\n",
    "            G_idx.erase(G_idx.begin() + k);\n",
    "        }\n",
    "    }\n",
    "    return PG_idx;\n",
    "}\n",
    "\n",
    "///////////////////////////////////////////////////////////////////////////////////////////////\n",
    "//                         GEN                      //\n",
    "///////////////////////////////////////////////////////////////////////////////////////////////\n",
    "\n",
    "auto RecoTripletGen(Vec<float> gen_pt, Vec<float> gen_eta, Vec<float> gen_phi, Vec<int> gen_charge,\n",
    "                 Vec<float> puppi_pt, Vec<float> puppi_eta, Vec<float> puppi_phi, Vec<int> puppi_charge, Vec<int> puppi_pdg){\n",
    "    Vec<int> puppi_pdg_idx;\n",
    "    Vec<size_t> PG_idx;\n",
    "    Vec<size_t> G_idx;\n",
    "    //          PGD             //\n",
    "    for(int i = 0; i < puppi_pdg.size(); ++i) { //make list of pions or electron\n",
    "        if (abs(puppi_pdg[i]) == 211 || abs(puppi_pdg[i]) == 11) puppi_pdg_idx.push_back(i);\n",
    "        // puppi_pdg_idx.push_back(i);\n",
    "    }\n",
    "    //          DELTA R             //\n",
    "    for(std::size_t i=0; i<gen_pt.size(); i++){\n",
    "        Vec<float> dr_vec;\n",
    "        if(puppi_pdg_idx.size()==0) continue;\n",
    "        for(size_t j : puppi_pdg_idx){\n",
    "            float DR = ROOT::VecOps::DeltaR(gen_eta[i], puppi_eta[j], gen_phi[i], puppi_phi[j]);\n",
    "            dr_vec.push_back(DR);\n",
    "        }\n",
    "        if(dr_vec.size()==0) continue;\n",
    "        auto min_it = std::min_element(dr_vec.begin(), dr_vec.end());  // iteratore all'elemento minimo\n",
    "        int min_idx = std::distance(dr_vec.begin(), min_it);      // indice dell'elemento minimo\n",
    "        if(dr_vec[min_idx]<0.1) {\n",
    "            PG_idx.push_back(puppi_pdg_idx[min_idx]);\n",
    "            G_idx.push_back(i);\n",
    "        }\n",
    "    }\n",
    "    //          PT             //\n",
    "    for(std::size_t k=0; k<PG_idx.size(); k++){\n",
    "        if(puppi_pt[PG_idx[k]] <= gen_pt[G_idx[k]]/2 || puppi_pt[PG_idx[k]] >= 2*gen_pt[G_idx[k]]){\n",
    "            PG_idx.erase(PG_idx.begin() + k);\n",
    "            G_idx.erase(G_idx.begin() + k);\n",
    "        }\n",
    "    }\n",
    "    return G_idx;\n",
    "}"
   ]
  },
  {
   "cell_type": "code",
   "execution_count": 2,
   "metadata": {},
   "outputs": [],
   "source": [
    "bool notempty(Vec<std::size_t> index) { //used to check if any triplets passed in an event\n",
    "    return !index.empty();\n",
    "}"
   ]
  },
  {
   "attachments": {},
   "cell_type": "markdown",
   "metadata": {},
   "source": [
    "## $|\\eta|>1.5$"
   ]
  },
  {
   "cell_type": "code",
   "execution_count": 3,
   "metadata": {},
   "outputs": [],
   "source": [
    "bool eta_filter(ROOT::VecOps::RVec<float> v){\n",
    "    return ROOT::VecOps::All(ROOT::VecOps::Map(v, [](float x){return (abs(x)>1.5); }));\n",
    "}"
   ]
  },
  {
   "cell_type": "code",
   "execution_count": 4,
   "metadata": {},
   "outputs": [
    {
     "data": {
      "image/png": "[encoded data removed]",
      "text/plain": [
       "<IPython.core.display.Image object>"
      ]
     },
     "metadata": {},
     "output_type": "display_data"
    },
    {
     "name": "stdout",
     "output_type": "stream",
     "text": [
      "4945\n"
     ]
    }
   ],
   "source": [
    "auto file_path = \"l1Nano_WTo3Pion_PU200_iso.root\";\n",
    "auto tree_name = \"Events\";\n",
    "\n",
    "ROOT::RDataFrame df(tree_name,file_path);\n",
    "// df.Describe();\n",
    "\n",
    "auto df_eta1 = df.Filter(eta_filter, {\"GenPi_eta\"})\n",
    "                .Define(\"RecoPuppi_idx\", RecoTriplet, {\"GenPi_pt\", \"GenPi_eta\", \"GenPi_phi\", \"GenPi_charge\", \"L1Puppi_pt\", \"L1Puppi_eta\", \"L1Puppi_phi\", \"L1Puppi_charge\", \"L1Puppi_pdgId\"})\n",
    "                .Define(\"RecoGen_idx\", RecoTripletGen, {\"GenPi_pt\", \"GenPi_eta\", \"GenPi_phi\", \"GenPi_charge\", \"L1Puppi_pt\", \"L1Puppi_eta\", \"L1Puppi_phi\", \"L1Puppi_charge\", \"L1Puppi_pdgId\"})\n",
    "                .Filter(notempty, {\"RecoGen_idx\"})\n",
    "                .Define(\"Reco_pt\", \"Take(L1Puppi_pt, RecoPuppi_idx)\")\n",
    "                .Define(\"Gen_pt\", \"Take(GenPi_pt, RecoGen_idx)\");\n",
    "\n",
    "std::cout <<*df_eta1.Count()<< std::endl;\n",
    "\n",
    "auto hist_rec = df_eta1.Histo1D({\"Matched_pt\", \"Matched pion pt(|eta|>1.5);pt(GeV)\", 40, 0, 80}, \"Reco_pt\");\n",
    "auto hist_gen = df_eta1.Histo1D({\"Gen_pt\", \"Pion pt(|eta|>1.5);pt(GeV)\", 40, 0, 80}, \"GenPi_pt\");\n",
    "auto c1 = new TCanvas(\"c1\", \"c1\", 800,600);\n",
    "\n",
    "hist_rec->SetLineColor(kAzure+2);\n",
    "hist_rec->SetLineWidth(2);\n",
    "\n",
    "hist_gen->SetLineColor(kOrange+8);\n",
    "hist_gen->SetLineWidth(2);\n",
    "\n",
    "hist_gen -> Draw();\n",
    "hist_rec -> Draw(\"same\");\n",
    "\n",
    "auto legend = new TLegend(0.75,0.55,0.9,0.70); // (x1, y1, x2, y2)\n",
    "legend->AddEntry(\"Matched_pt\", \"RecoPi\", \"f\"); \n",
    "legend->AddEntry(\"Gen_pt\", \"GenPi\", \"f\");\n",
    "legend-> Draw();\n",
    "\n",
    "c1 -> Draw();"
   ]
  },
  {
   "cell_type": "code",
   "execution_count": 5,
   "metadata": {},
   "outputs": [
    {
     "name": "stdout",
     "output_type": "stream",
     "text": [
      "{ 0, 0.358904, 0.342105, 0.362602, 0.410543, 0.297654, 0.331242, 0.354293, 0.437037, 0.456311, 0.36694, 0.458007, 0.417845, 0.508494, 0.591885, 0.551683, 0.548038, 0.594306, 0.614232, 0.809769, 0.724739, 0.673684, 0.766917, 0.925532, 0.552941, 0.846154, 0.97561, 0.677419, 0.447368, 0.68, 1.08696, 0.909091, 0.733333, 0.409091, 0.333333, 1.09091, 0.777778, 1.375, 1 }\n"
     ]
    }
   ],
   "source": [
    "int nbin = hist_gen -> GetNbinsX();\n",
    "Vec<double> efficiencies;\n",
    "\n",
    "for(int i=1; i<nbin; i++){ // ignore i=0 due to Getbincontent output and i=1 due to 0 division \n",
    "    double eff = (hist_rec -> GetBinContent(i))/(hist_gen -> GetBinContent(i));\n",
    "    efficiencies.push_back(eff);\n",
    "\n",
    "}\n",
    "std::cout << efficiencies << std::endl;"
   ]
  },
  {
   "attachments": {},
   "cell_type": "markdown",
   "metadata": {},
   "source": [
    "## $|\\eta|<1.5$"
   ]
  },
  {
   "cell_type": "code",
   "execution_count": 6,
   "metadata": {},
   "outputs": [],
   "source": [
    "bool eta_filter2(ROOT::VecOps::RVec<float> v){\n",
    "    return ROOT::VecOps::All(ROOT::VecOps::Map(v, [](float x){return (abs(x)<1.5); }));\n",
    "}"
   ]
  },
  {
   "cell_type": "code",
   "execution_count": 7,
   "metadata": {},
   "outputs": [
    {
     "data": {
      "image/png": "[encoded data removed]",
      "text/plain": [
       "<IPython.core.display.Image object>"
      ]
     },
     "metadata": {},
     "output_type": "display_data"
    },
    {
     "name": "stdout",
     "output_type": "stream",
     "text": [
      "8447\n"
     ]
    }
   ],
   "source": [
    "auto df_eta2 = df.Filter(eta_filter2, {\"GenPi_eta\"})\n",
    "                .Define(\"RecoPuppi_idx\", RecoTriplet,   {\"GenPi_pt\", \"GenPi_eta\", \"GenPi_phi\", \"GenPi_charge\", \"L1Puppi_pt\", \"L1Puppi_eta\", \"L1Puppi_phi\", \"L1Puppi_charge\", \"L1Puppi_pdgId\"})\n",
    "                .Define(\"RecoGen_idx\",   RecoTripletGen,{\"GenPi_pt\", \"GenPi_eta\", \"GenPi_phi\", \"GenPi_charge\", \"L1Puppi_pt\", \"L1Puppi_eta\", \"L1Puppi_phi\", \"L1Puppi_charge\", \"L1Puppi_pdgId\"})\n",
    "                .Filter(notempty, {\"RecoGen_idx\"})\n",
    "                .Filter(notempty, {\"RecoPuppi_idx\"})\n",
    "                .Define(\"Reco_pt\", \"Take(L1Puppi_pt, RecoPuppi_idx)\");\n",
    "                // .Define(\"Gen_pt\", \"Take(GenPi_pt, RecoGen_idx)\");\n",
    "\n",
    "std::cout <<*df_eta2.Count()<< std::endl;\n",
    "\n",
    "auto hist_rec2 = df_eta2.Histo1D({\"Matched_pt\", \"Matched pion pt(|eta|>1.5);pt(GeV)\", 30, 0, 60}, \"Reco_pt\");\n",
    "auto hist_gen2 = df_eta2.Histo1D({\"Gen_pt\", \"Pion pt(|eta|>1.5);pt(GeV)\", 30, 0, 60}, \"GenPi_pt\");\n",
    "auto c2 = new TCanvas(\"c2\", \"c2\", 800,600);\n",
    "\n",
    "hist_rec2->SetLineColor(kAzure+2);\n",
    "hist_rec2->SetLineWidth(2);\n",
    "\n",
    "hist_gen2->SetLineColor(kOrange+8);\n",
    "hist_gen2->SetLineWidth(2);\n",
    "\n",
    "hist_gen2 -> Draw();\n",
    "hist_rec2 -> Draw(\"same\");\n",
    "\n",
    "auto legend = new TLegend(0.75,0.55,0.9,0.70); // (x1, y1, x2, y2)\n",
    "legend->AddEntry(\"Matched_pt\", \"RecoPi\", \"f\"); \n",
    "legend->AddEntry(\"Gen_pt\", \"GenPi\", \"f\");\n",
    "legend-> Draw();\n",
    "\n",
    "c2 -> Draw();"
   ]
  },
  {
   "cell_type": "code",
   "execution_count": 8,
   "metadata": {},
   "outputs": [
    {
     "name": "stdout",
     "output_type": "stream",
     "text": [
      "{ 0, 0.786802, 0.854015, 0.887654, 0.882788, 0.904332, 0.883567, 0.884588, 0.912884, 0.897538, 0.876559, 0.892698, 0.893473, 0.874244, 0.966538, 0.881181, 0.908944, 0.824167, 0.947101, 0.927727, 0.96124, 0.881137, 0.939516, 1.02235, 0.929688, 0.788991, 1, 0.788462, 1.10714 }\n"
     ]
    }
   ],
   "source": [
    "int nbin = hist_gen2 -> GetNbinsX();\n",
    "Vec<double> efficiencies2;\n",
    "\n",
    "for(int i=1; i<nbin; i++){ // ignore i=0 due to Getbincontent output and i=1 due to 0 division \n",
    "    double eff = (hist_rec2 -> GetBinContent(i))/(hist_gen2 -> GetBinContent(i));\n",
    "    efficiencies2.push_back(eff);\n",
    "\n",
    "}\n",
    "std::cout << efficiencies2 << std::endl;"
   ]
  },
  {
   "attachments": {},
   "cell_type": "markdown",
   "metadata": {},
   "source": [
    "## Eta Filter $|\\eta|<1.5$"
   ]
  },
  {
   "cell_type": "code",
   "execution_count": 9,
   "metadata": {},
   "outputs": [],
   "source": [
    "auto all_eta_filter(Vec<float> eta){\n",
    "    Vec<int> idx;\n",
    "    for(int i=0;i<eta.size();i++){\n",
    "        if(abs(eta[i])<1.5) idx.push_back(i);\n",
    "    }\n",
    "    return idx;\n",
    "}"
   ]
  },
  {
   "cell_type": "code",
   "execution_count": 10,
   "metadata": {},
   "outputs": [],
   "source": [
    "auto df1_eta = df.Define(\"eta_idx\", all_eta_filter, {\"GenPi_eta\"})\n",
    "                .Define(\"gen_pt\",  \"Take(GenPi_pt, eta_idx)\")\n",
    "                .Define(\"gen_eta\", \"Take(GenPi_eta, eta_idx)\")\n",
    "                .Define(\"gen_phi\", \"Take(GenPi_phi, eta_idx)\")\n",
    "                .Define(\"gen_charge\", \"Take(GenPi_charge, eta_idx)\")\n",
    "                .Define(\"RecoPuppi_idx\", RecoTriplet,  {\"gen_pt\", \"gen_eta\", \"gen_phi\", \"gen_charge\", \"L1Puppi_pt\", \"L1Puppi_eta\", \"L1Puppi_phi\", \"L1Puppi_charge\", \"L1Puppi_pdgId\"})\n",
    "                .Define(\"RecoGen_idx\", RecoTripletGen, {\"gen_pt\", \"gen_eta\", \"gen_phi\", \"gen_charge\", \"L1Puppi_pt\", \"L1Puppi_eta\", \"L1Puppi_phi\", \"L1Puppi_charge\", \"L1Puppi_pdgId\"})\n",
    "                .Filter(notempty, {\"RecoGen_idx\"})\n",
    "                .Define(\"Reco_pt\", \"Take(L1Puppi_pt, RecoPuppi_idx)\")\n",
    "                .Define(\"Gen_pt\", \"Take(GenPi_pt, RecoGen_idx)\");"
   ]
  },
  {
   "cell_type": "code",
   "execution_count": 11,
   "metadata": {},
   "outputs": [
    {
     "name": "stdout",
     "output_type": "stream",
     "text": [
      "(ROOT::VecOps::RVec<unsigned long> &) { 1 }\n"
     ]
    }
   ],
   "source": [
    "auto ee = df1_eta.Take<ROOT::VecOps::RVec<unsigned long>>(\"RecoPuppi_idx\").GetValue()[1];\n",
    "ee"
   ]
  },
  {
   "cell_type": "code",
   "execution_count": 12,
   "metadata": {},
   "outputs": [
    {
     "data": {
      "image/png": "[encoded data removed]",
      "text/plain": [
       "<IPython.core.display.Image object>"
      ]
     },
     "metadata": {},
     "output_type": "display_data"
    },
    {
     "name": "stdout",
     "output_type": "stream",
     "text": [
      "22881\n"
     ]
    }
   ],
   "source": [
    "std::cout <<*df1_eta.Count()<< std::endl;\n",
    "\n",
    "auto hist_rec3 = df1_eta.Histo1D({\"Matched_pt\", \"Matched pion pt(|eta|>1.5);pt(GeV)\", 30, 0, 60}, \"Gen_pt\");\n",
    "auto hist_gen3 = df1_eta.Histo1D({\"Gen_pt\", \"Pion pt(|eta|>1.5);pt(GeV)\", 30, 0, 60}, \"GenPi_pt\");\n",
    "auto c3 = new TCanvas(\"c3\", \"c3\", 800,600);\n",
    "\n",
    "hist_rec3->SetLineColor(kAzure+2);\n",
    "hist_rec3->SetLineWidth(2);\n",
    "\n",
    "hist_gen3->SetLineColor(kOrange+8);\n",
    "hist_gen3->SetLineWidth(2);\n",
    "\n",
    "hist_gen3 -> Draw();\n",
    "hist_rec3 -> Draw(\"same\");\n",
    "\n",
    "auto legend = new TLegend(0.75,0.55,0.9,0.70); // (x1, y1, x2, y2)\n",
    "legend->AddEntry(\"Matched_pt\", \"RecoPi\", \"f\"); \n",
    "legend->AddEntry(\"Gen_pt\", \"GenPi\", \"f\");\n",
    "legend-> Draw();\n",
    "\n",
    "c3 -> Draw();"
   ]
  },
  {
   "cell_type": "code",
   "execution_count": 13,
   "metadata": {},
   "outputs": [
    {
     "name": "stdout",
     "output_type": "stream",
     "text": [
      "{ 0.326446, 0.556492, 0.569531, 0.603598, 0.590021, 0.614501, 0.604964, 0.645047, 0.617191, 0.650269, 0.643386, 0.633724, 0.652761, 0.660907, 0.66712, 0.664489, 0.6794, 0.684866, 0.694362, 0.697315, 0.69255, 0.732857, 0.712909, 0.665829, 0.740214, 0.681102, 0.647668, 0.657343, 0.661538 }\n"
     ]
    }
   ],
   "source": [
    "int nbin = hist_gen3 -> GetNbinsX();\n",
    "Vec<double> efficiencies3;\n",
    "\n",
    "for(int i=1; i<nbin; i++){ // ignore i=0 due to Getbincontent output and i=1 due to 0 division \n",
    "    double eff = (hist_rec3 -> GetBinContent(i))/(hist_gen3 -> GetBinContent(i));\n",
    "    efficiencies3.push_back(eff);\n",
    "\n",
    "}\n",
    "std::cout << efficiencies3 << std::endl;"
   ]
  },
  {
   "cell_type": "code",
   "execution_count": 14,
   "metadata": {},
   "outputs": [
    {
     "name": "stderr",
     "output_type": "stream",
     "text": [
      "input_line_121:2:26: error: no matching constructor for initialization of 'TEfficiency'\n",
      " TEfficiency* eff1 = new TEfficiency(\"effic\",hist_rec3.GetValue(),hist_gen3.GetValue());\n",
      "                         ^           ~~~~~~~~~~~~~~~~~~~~~~~~~~~~~~~~~~~~~~~~~~~~~~~~~\n",
      "/home/pietro/anaconda3/envs/root-env/include/TEfficiency.h:75:7: note: candidate constructor not viable: requires 2 arguments, but 3 were provided\n",
      "      TEfficiency(const TH1& passed,const TH1& total);\n",
      "      ^\n",
      "/home/pietro/anaconda3/envs/root-env/include/TEfficiency.h:76:7: note: candidate constructor not viable: requires 4 arguments, but 3 were provided\n",
      "      TEfficiency(const char* name,const char* title,Int_t nbins,\n",
      "      ^\n",
      "/home/pietro/anaconda3/envs/root-env/include/TEfficiency.h:91:7: note: candidate constructor not viable: requires single argument 'heff', but 3 arguments were provided\n",
      "      TEfficiency(const TEfficiency& heff);\n",
      "      ^\n",
      "/home/pietro/anaconda3/envs/root-env/include/TEfficiency.h:78:7: note: candidate constructor not viable: requires 5 arguments, but 3 were provided\n",
      "      TEfficiency(const char* name,const char* title,Int_t nbins,Double_t xlow,\n",
      "      ^\n",
      "/home/pietro/anaconda3/envs/root-env/include/TEfficiency.h:74:7: note: candidate constructor not viable: requires 0 arguments, but 3 were provided\n",
      "      TEfficiency();\n",
      "      ^\n",
      "/home/pietro/anaconda3/envs/root-env/include/TEfficiency.h:83:7: note: candidate constructor not viable: requires 6 arguments, but 3 were provided\n",
      "      TEfficiency(const char* name,const char* title,Int_t nbinsx,\n",
      "      ^\n",
      "/home/pietro/anaconda3/envs/root-env/include/TEfficiency.h:80:7: note: candidate constructor not viable: requires 8 arguments, but 3 were provided\n",
      "      TEfficiency(const char* name,const char* title,Int_t nbinsx,\n",
      "      ^\n",
      "/home/pietro/anaconda3/envs/root-env/include/TEfficiency.h:88:7: note: candidate constructor not viable: requires 8 arguments, but 3 were provided\n",
      "      TEfficiency(const char* name,const char* title,Int_t nbinsx,\n",
      "      ^\n",
      "/home/pietro/anaconda3/envs/root-env/include/TEfficiency.h:85:7: note: candidate constructor not viable: requires 11 arguments, but 3 were provided\n",
      "      TEfficiency(const char* name,const char* title,Int_t nbinsx,\n",
      "      ^\n"
     ]
    }
   ],
   "source": [
    "TEfficiency* eff1 = new TEfficiency(\"effic\",hist_rec3.GetValue(),hist_gen3.GetValue());\n",
    "auto c4 = new TCanvas(\"c4\", \"c4\", 800,600);\n",
    "eff1 -> SetLineColor(kBlue);\n",
    "eff1 -> SetLineWidth(2);\n",
    "eff1->SetStatisticOption(TEfficiency::kBUniform);\n",
    "\n",
    "eff1->Draw(\"AP\");\n",
    "c4 ->Draw();"
   ]
  },
  {
   "cell_type": "code",
   "execution_count": 23,
   "metadata": {},
   "outputs": [
    {
     "data": {
      "image/png": "[encoded data removed]",
      "text/plain": [
       "<IPython.core.display.Image object>"
      ]
     },
     "metadata": {},
     "output_type": "display_data"
    },
    {
     "name": "stdout",
     "output_type": "stream",
     "text": [
      "\n",
      "****************************************\n",
      "Minimizer is Linear / Migrad\n",
      "Chi2                      =    0.0261057\n",
      "NDf                       =           24\n",
      "p0                        =     0.375777   +/-   0.0311234   \n",
      "p1                        =    0.0410953   +/-   0.00745167  \n",
      "p2                        =  -0.00225002   +/-   0.000522233 \n",
      "p3                        =  5.28611e-05   +/-   1.35265e-05 \n",
      "p4                        = -4.33046e-07   +/-   1.1571e-07  \n"
     ]
    }
   ],
   "source": [
    "Vec<double> binCenters;\n",
    "for (int i = 1; i<hist_rec3->GetNbinsX(); i++) {\n",
    "    binCenters.push_back(hist_rec3->GetBinCenter(i));\n",
    "}\n",
    "\n",
    "// std::cout << binCenters.size() << binCenters << std::endl;\n",
    "// std::cout << efficiencies4.size() << efficiencies4 << std::endl;\n",
    "\n",
    "auto c6 = new TCanvas(\"c6\", \"c6\", 800,600);\n",
    "auto g  = new TGraph();\n",
    "g->SetTitle(\"Efficiency pT(|eta|>1.5)\");\n",
    "\n",
    "for(int i=0; i<binCenters.size();i++){\n",
    "    g->SetPoint(i,binCenters[i], efficiencies3[i]);\n",
    "}\n",
    "\n",
    "TF1 *polynomialFit = new TF1(\"polynomialFit\", \"pol4\");\n",
    "g->Fit(polynomialFit);\n",
    "\n",
    "g->SetLineColor(4);\n",
    "g->SetLineWidth(-2002);\n",
    "g->SetMarkerStyle(21);\n",
    "g->Draw(\"ACP\");\n",
    "polynomialFit->Draw(\"same\");\n",
    "c6->Draw();"
   ]
  },
  {
   "attachments": {},
   "cell_type": "markdown",
   "metadata": {},
   "source": [
    "## Eta Filter $|\\eta|>1.5$"
   ]
  },
  {
   "cell_type": "code",
   "execution_count": 16,
   "metadata": {},
   "outputs": [],
   "source": [
    "auto all_eta_filter2(Vec<float> eta){\n",
    "    Vec<int> idx;\n",
    "    for(int i=0;i<eta.size();i++){\n",
    "        if(abs(eta[i])>1.5) idx.push_back(i);\n",
    "    }\n",
    "    return idx;\n",
    "}"
   ]
  },
  {
   "cell_type": "code",
   "execution_count": 17,
   "metadata": {},
   "outputs": [],
   "source": [
    "auto df2_eta = df.Define(\"eta_idx\", all_eta_filter2, {\"GenPi_eta\"})\n",
    "                .Define(\"gen_pt\",  \"Take(GenPi_pt, eta_idx)\")\n",
    "                .Define(\"gen_eta\", \"Take(GenPi_eta, eta_idx)\")\n",
    "                .Define(\"gen_phi\", \"Take(GenPi_phi, eta_idx)\")\n",
    "                .Define(\"gen_charge\", \"Take(GenPi_charge, eta_idx)\")\n",
    "                .Define(\"RecoPuppi_idx\", RecoTriplet,  {\"gen_pt\", \"gen_eta\", \"gen_phi\", \"gen_charge\", \"L1Puppi_pt\", \"L1Puppi_eta\", \"L1Puppi_phi\", \"L1Puppi_charge\", \"L1Puppi_pdgId\"})\n",
    "                .Define(\"RecoGen_idx\", RecoTripletGen, {\"gen_pt\", \"gen_eta\", \"gen_phi\", \"gen_charge\", \"L1Puppi_pt\", \"L1Puppi_eta\", \"L1Puppi_phi\", \"L1Puppi_charge\", \"L1Puppi_pdgId\"})\n",
    "                .Filter(notempty, {\"RecoGen_idx\"})\n",
    "                .Define(\"Reco_pt\", \"Take(L1Puppi_pt, RecoPuppi_idx)\")\n",
    "                .Define(\"Gen_pt\", \"Take(GenPi_pt, RecoGen_idx)\");"
   ]
  },
  {
   "cell_type": "code",
   "execution_count": 18,
   "metadata": {},
   "outputs": [
    {
     "data": {
      "image/png": "[encoded data removed]",
      "text/plain": [
       "<IPython.core.display.Image object>"
      ]
     },
     "metadata": {},
     "output_type": "display_data"
    },
    {
     "name": "stdout",
     "output_type": "stream",
     "text": [
      "14890\n"
     ]
    }
   ],
   "source": [
    "std::cout <<*df2_eta.Count()<< std::endl;\n",
    "\n",
    "auto hist_rec4 = df2_eta.Histo1D({\"Matched_pt\", \"Matched pion pt(|eta|>1.5);pt(GeV)\", 30, 0, 60}, \"Gen_pt\").GetValue();\n",
    "auto hist_gen4 = df2_eta.Histo1D({\"Gen_pt\", \"Pion pt(|eta|>1.5);pt(GeV)\", 30, 0, 60}, \"GenPi_pt\").GetValue();\n",
    "auto c4 = new TCanvas(\"c4\", \"c4\", 800,600);\n",
    "\n",
    "hist_rec4.SetLineColor(kAzure+2);\n",
    "hist_rec4.SetLineWidth(2);\n",
    "\n",
    "hist_gen4.SetLineColor(kOrange+8);\n",
    "hist_gen4.SetLineWidth(2);\n",
    "\n",
    "hist_gen4 . Draw();\n",
    "hist_rec4 . Draw(\"same\");\n",
    "\n",
    "auto legend = new TLegend(0.75,0.55,0.9,0.70); // (x1, y1, x2, y2)\n",
    "legend->AddEntry(\"Matched_pt\", \"RecoPi\", \"f\"); \n",
    "legend->AddEntry(\"Gen_pt\", \"GenPi\", \"f\");\n",
    "legend-> Draw();\n",
    "\n",
    "c4 -> Draw();"
   ]
  },
  {
   "attachments": {},
   "cell_type": "markdown",
   "metadata": {},
   "source": [
    "### Efficiency"
   ]
  },
  {
   "cell_type": "code",
   "execution_count": 19,
   "metadata": {},
   "outputs": [
    {
     "name": "stdout",
     "output_type": "stream",
     "text": [
      "{ 0.199125, 0.352753, 0.354971, 0.364337, 0.373701, 0.361595, 0.353393, 0.394163, 0.388038, 0.40946, 0.388094, 0.418296, 0.432974, 0.423033, 0.449897, 0.477372, 0.467742, 0.460847, 0.500368, 0.48873, 0.5, 0.508929, 0.520124, 0.443609, 0.480392, 0.488235, 0.467213, 0.447619, 0.466667 }\n"
     ]
    }
   ],
   "source": [
    "int nbin = hist_gen4.GetNbinsX();\n",
    "Vec<double> efficiencies4;\n",
    "\n",
    "for(int i=1; i<nbin; i++){ // ignore i=0 due to Getbincontent output and i=1 due to 0 division \n",
    "    double eff = (hist_rec4.GetBinContent(i))/(hist_gen4.GetBinContent(i));\n",
    "    efficiencies4.push_back(eff);\n",
    "\n",
    "}\n",
    "std::cout << efficiencies4 << std::endl;"
   ]
  },
  {
   "cell_type": "code",
   "execution_count": 20,
   "metadata": {},
   "outputs": [
    {
     "name": "stdout",
     "output_type": "stream",
     "text": [
      "(bool) true\n"
     ]
    }
   ],
   "source": [
    "TEfficiency::CheckConsistency(hist_rec4,hist_gen4)"
   ]
  },
  {
   "cell_type": "code",
   "execution_count": 21,
   "metadata": {},
   "outputs": [
    {
     "data": {
      "image/png": "[encoded data removed]",
      "text/plain": [
       "<IPython.core.display.Image object>"
      ]
     },
     "metadata": {},
     "output_type": "display_data"
    },
    {
     "name": "stderr",
     "output_type": "stream",
     "text": [
      "Warning in <TCanvas::Constructor>: Deleting canvas with same name: c4\n"
     ]
    }
   ],
   "source": [
    "TEfficiency* eff = new TEfficiency(hist_rec4,hist_gen4);\n",
    "auto c4 = new TCanvas(\"c4\", \"c4\", 800,600);\n",
    "eff -> SetLineColor(kBlue);\n",
    "eff -> SetLineWidth(2);\n",
    "eff->SetStatisticOption(TEfficiency::kBUniform);\n",
    "\n",
    "eff->Draw(\"AP\");\n",
    "c4 ->Draw();"
   ]
  },
  {
   "cell_type": "code",
   "execution_count": 22,
   "metadata": {},
   "outputs": [
    {
     "data": {
      "image/png": "[encoded data removed]",
      "text/plain": [
       "<IPython.core.display.Image object>"
      ]
     },
     "metadata": {},
     "output_type": "display_data"
    },
    {
     "name": "stdout",
     "output_type": "stream",
     "text": [
      "\n",
      "****************************************\n",
      "Minimizer is Linear / Migrad\n",
      "Chi2                      =    0.0182712\n",
      "NDf                       =           24\n",
      "p0                        =     0.252085   +/-   0.0260377   \n",
      "p1                        =    0.0176736   +/-   0.00623403  \n",
      "p2                        = -0.000817681   +/-   0.000436898 \n",
      "p3                        =  2.04797e-05   +/-   1.13162e-05 \n",
      "p4                        = -1.85492e-07   +/-   9.68026e-08 \n"
     ]
    },
    {
     "name": "stderr",
     "output_type": "stream",
     "text": [
      "Warning in <TCanvas::Constructor>: Deleting canvas with same name: c4\n"
     ]
    }
   ],
   "source": [
    "Vec<double> binCenters;\n",
    "for (int i = 1; i<hist_rec4.GetNbinsX(); i++) {\n",
    "    binCenters.push_back(hist_rec4.GetBinCenter(i));\n",
    "}\n",
    "\n",
    "// std::cout << binCenters.size() << binCenters << std::endl;\n",
    "// std::cout << efficiencies4.size() << efficiencies4 << std::endl;\n",
    "\n",
    "auto c4 = new TCanvas(\"c4\", \"c4\", 800,600);\n",
    "auto g  = new TGraph();\n",
    "g->SetTitle(\"Efficiency pT(|eta|>1.5)\");\n",
    "\n",
    "for(int i=0; i<binCenters.size();i++){\n",
    "    g->SetPoint(i,binCenters[i], efficiencies4[i]);\n",
    "}\n",
    "\n",
    "TF1 *polynomialFit = new TF1(\"polynomialFit\", \"pol4\");\n",
    "g->Fit(polynomialFit);\n",
    "\n",
    "g->SetLineColor(4);\n",
    "g->SetLineWidth(-2002);\n",
    "g->SetMarkerStyle(21);\n",
    "g->Draw(\"ACP\");\n",
    "polynomialFit->Draw(\"same\");\n",
    "c4->Draw();"
   ]
  },
  {
   "cell_type": "code",
   "execution_count": null,
   "metadata": {},
   "outputs": [],
   "source": []
  }
 ],
 "metadata": {
  "kernelspec": {
   "display_name": "ROOT C++",
   "language": "c++",
   "name": "root"
  },
  "language_info": {
   "codemirror_mode": "text/x-c++src",
   "file_extension": ".C",
   "mimetype": " text/x-c++src",
   "name": "c++"
  },
  "orig_nbformat": 4
 },
 "nbformat": 4,
 "nbformat_minor": 2
}
