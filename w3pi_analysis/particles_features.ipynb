{
 "cells": [
  {
   "cell_type": "markdown",
   "metadata": {},
   "source": [
    "Study the distribution of the different particles features: pions, electrons, ecc.."
   ]
  },
  {
   "cell_type": "code",
   "execution_count": 1,
   "metadata": {},
   "outputs": [],
   "source": [
    "#include \"ROOT/RDataFrame.hxx\"\n",
    "#include \"ROOT/RVec.hxx\"\n",
    "#include <ROOT/RLogger.hxx>\n",
    "#include \"TCanvas.h\"\n",
    "#include \"TFile.h\"\n",
    "#include \"TH1D.h\"\n",
    "#include \"TF1.h\"\n",
    "#include \"TMath.h\"\n",
    "#include \"THStack.h\"\n",
    "#include \"TLegend.h\"\n",
    "#include \"Math/Vector4D.h\"\n",
    "\n",
    "//cpp\n",
    "#include <vector>\n",
    "#include <iostream>\n",
    "#include <fstream>\n",
    "#include <iomanip>\n",
    "#include <cstdlib>\n",
    "#include <cstdio>\n",
    "#include <string>\n",
    "#include <Math/GenVector/LorentzVector.h>\n",
    "#include <Math/GenVector/PtEtaPhiM4D.h>\n",
    "#include <stdlib.h>\n",
    "#include <math.h>\n",
    "#include <TH1.h>\n",
    "\n",
    "template <typename T> using Vec = ROOT::RVec<T>; "
   ]
  },
  {
   "cell_type": "code",
   "execution_count": 2,
   "metadata": {},
   "outputs": [
    {
     "name": "stdout",
     "output_type": "stream",
     "text": [
      "(ROOT::RDF::RDFDescription) Dataframe from TChain Events in file /home/pietro/Documents/W3Pi/l1Nano_WTo3Pion_PU200_iso.root\n",
      "\n",
      "Property                Value\n",
      "--------                -----\n",
      "Columns in total           41\n",
      "Columns from defines        0\n",
      "Event loops run             0\n",
      "Processing slots            1\n",
      "\n",
      "Column                  Type                            Origin\n",
      "------                  ----                            ------\n",
      "GenPi_charge            ROOT::VecOps::RVec<Int_t>       Dataset\n",
      "GenPi_eta               ROOT::VecOps::RVec<Float_t>     Dataset\n",
      "GenPi_mass              ROOT::VecOps::RVec<Float_t>     Dataset\n",
      "GenPi_pdgId             ROOT::VecOps::RVec<Int_t>       Dataset\n",
      "GenPi_phi               ROOT::VecOps::RVec<Float_t>     Dataset\n",
      "GenPi_prompt            ROOT::VecOps::RVec<Int_t>       Dataset\n",
      "GenPi_pt                ROOT::VecOps::RVec<Float_t>     Dataset\n",
      "GenPi_vz                ROOT::VecOps::RVec<Float_t>     Dataset\n",
      "GenW_charge             ROOT::VecOps::RVec<Int_t>       Dataset\n",
      "GenW_eta                ROOT::VecOps::RVec<Float_t>     Dataset\n",
      "GenW_mass               ROOT::VecOps::RVec<Float_t>     Dataset\n",
      "GenW_pdgId              ROOT::VecOps::RVec<Int_t>       Dataset\n",
      "GenW_phi                ROOT::VecOps::RVec<Float_t>     Dataset\n",
      "GenW_pt                 ROOT::VecOps::RVec<Float_t>     Dataset\n",
      "GenW_vz                 ROOT::VecOps::RVec<Float_t>     Dataset\n",
      "L1PF_GenPiFlav          ROOT::VecOps::RVec<UChar_t>     Dataset\n",
      "L1PF_GenPiIdx           ROOT::VecOps::RVec<Int_t>       Dataset\n",
      "L1PF_charge             ROOT::VecOps::RVec<Int_t>       Dataset\n",
      "L1PF_eta                ROOT::VecOps::RVec<Float_t>     Dataset\n",
      "L1PF_mass               ROOT::VecOps::RVec<Float_t>     Dataset\n",
      "L1PF_pdgId              ROOT::VecOps::RVec<Int_t>       Dataset\n",
      "L1PF_phi                ROOT::VecOps::RVec<Float_t>     Dataset\n",
      "L1PF_pt                 ROOT::VecOps::RVec<Float_t>     Dataset\n",
      "L1PF_vz                 ROOT::VecOps::RVec<Float_t>     Dataset\n",
      "L1Puppi_GenPiFlav       ROOT::VecOps::RVec<UChar_t>     Dataset\n",
      "L1Puppi_GenPiIdx        ROOT::VecOps::RVec<Int_t>       Dataset\n",
      "L1Puppi_charge          ROOT::VecOps::RVec<Int_t>       Dataset\n",
      "L1Puppi_eta             ROOT::VecOps::RVec<Float_t>     Dataset\n",
      "L1Puppi_mass            ROOT::VecOps::RVec<Float_t>     Dataset\n",
      "L1Puppi_pdgId           ROOT::VecOps::RVec<Int_t>       Dataset\n",
      "L1Puppi_phi             ROOT::VecOps::RVec<Float_t>     Dataset\n",
      "L1Puppi_pt              ROOT::VecOps::RVec<Float_t>     Dataset\n",
      "L1Puppi_vz              ROOT::VecOps::RVec<Float_t>     Dataset\n",
      "RelIso                  ROOT::VecOps::RVec<float>       Dataset\n",
      "event                   ULong64_t                       Dataset\n",
      "luminosityBlock         UInt_t                          Dataset\n",
      "nGenPi                  UInt_t                          Dataset\n",
      "nGenW                   UInt_t                          Dataset\n",
      "nL1PF                   UInt_t                          Dataset\n",
      "nL1Puppi                UInt_t                          Dataset\n",
      "run                     UInt_t                          Dataset\n"
     ]
    }
   ],
   "source": [
    "ROOT::RDataFrame df(\"Events\",\"/home/pietro/Documents/W3Pi/l1Nano_WTo3Pion_PU200_iso.root\");\n",
    "df.Describe()"
   ]
  },
  {
   "cell_type": "code",
   "execution_count": 3,
   "metadata": {},
   "outputs": [
    {
     "name": "stdout",
     "output_type": "stream",
     "text": [
      "{ 22.75, 1.5, 32.25, 32.25, 17.5, 2.25, 2.25, 2, 2 }\n",
      "{ -211, 130, -211, -211, 211, 211, -211, 211, 211 }\n"
     ]
    }
   ],
   "source": [
    "auto pt  = df.Take<ROOT::VecOps::RVec<Float_t>>(\"L1Puppi_pt\").GetValue();\n",
    "auto eta = df.Take<ROOT::VecOps::RVec<Float_t>>(\"L1Puppi_eta\").GetValue();\n",
    "auto phi = df.Take<ROOT::VecOps::RVec<Float_t>>(\"L1Puppi_phi\").GetValue();\n",
    "auto id  = df.Take<ROOT::VecOps::RVec<Int_t>>(\"L1Puppi_pdgId\").GetValue();\n",
    "\n",
    "int ev = 0;\n",
    "std::cout << pt[ev]<< std::endl;\n",
    "std::cout << id[ev]<< std::endl;"
   ]
  },
  {
   "cell_type": "code",
   "execution_count": 4,
   "metadata": {},
   "outputs": [],
   "source": [
    "std::vector<float> pt_pion;\n",
    "std::vector<float> pt_electron;\n",
    "std::vector<float> pt_photon;\n",
    "std::vector<float> pt_muon;\n",
    "std::vector<float> pt_h0;\n",
    "\n",
    "for(int ev=0; ev<pt.size(); ev++){\n",
    "    for(int i=0; i<pt[ev].size(); i++){\n",
    "        if(abs(id[ev][i]) == 211) pt_pion.push_back(pt[ev][i]);\n",
    "        if(abs(id[ev][i]) == 11) pt_electron.push_back(pt[ev][i]);\n",
    "        if(abs(id[ev][i]) == 22) pt_photon.push_back(pt[ev][i]);\n",
    "        if(abs(id[ev][i]) == 13) pt_muon.push_back(pt[ev][i]);\n",
    "        if(abs(id[ev][i]) == 130) pt_h0.push_back(pt[ev][i]);\n",
    "    }\n",
    "}\n"
   ]
  },
  {
   "cell_type": "code",
   "execution_count": 5,
   "metadata": {},
   "outputs": [
    {
     "name": "stdout",
     "output_type": "stream",
     "text": [
      "1235376\n",
      "19037\n",
      "84998\n",
      "11753\n",
      "101091\n"
     ]
    }
   ],
   "source": [
    "std::cout << pt_pion.size() << std::endl;\n",
    "std::cout << pt_electron.size() << std::endl;\n",
    "std::cout << pt_photon.size() << std::endl;\n",
    "std::cout << pt_muon.size() << std::endl;\n",
    "std::cout << pt_h0.size() << std::endl;"
   ]
  },
  {
   "cell_type": "markdown",
   "metadata": {},
   "source": [
    "## General histogram"
   ]
  },
  {
   "cell_type": "code",
   "execution_count": 51,
   "metadata": {},
   "outputs": [
    {
     "data": {
      "image/png": "[encoded data removed]",
      "text/plain": [
       "<IPython.core.display.Image object>"
      ]
     },
     "metadata": {},
     "output_type": "display_data"
    },
    {
     "name": "stderr",
     "output_type": "stream",
     "text": [
      "Warning in <TROOT::Append>: Replacing existing TH1: hist (Potential memory leak).\n",
      "Warning in <TROOT::Append>: Replacing existing TH1: hist (Potential memory leak).\n",
      "Warning in <TROOT::Append>: Replacing existing TH1: hist (Potential memory leak).\n",
      "Warning in <TROOT::Append>: Replacing existing TH1: hist (Potential memory leak).\n",
      "Warning in <TROOT::Append>: Replacing existing TH1: hist (Potential memory leak).\n",
      "Warning in <TCanvas::Constructor>: Deleting canvas with same name: c1\n"
     ]
    }
   ],
   "source": [
    "TH1F* hist_pion = new TH1F(\"hist\", \"L1Puppi pt; pion pt (GeV)\", 192, 2, 50); //GeV\n",
    "TH1F* hist_electron = new TH1F(\"hist\", \"L1Puppi pt; electron pt (GeV)\", 192, 2, 50); //GeV\n",
    "TH1F* hist_photon   = new TH1F(\"hist\", \"L1Puppi pt; photon pt (GeV)\", 192, 2, 50); //GeV\n",
    "TH1F* hist_muon = new TH1F(\"hist\", \"L1Puppi pt; muon pt (GeV)\", 192, 2, 50); //GeV\n",
    "TH1F* hist_h0   = new TH1F(\"hist\", \"L1Puppi pt; h0 pt (GeV)\", 192, 2, 50); //GeV\n",
    "\n",
    "\n",
    "for (const auto &p : pt_pion){\n",
    "    hist_pion->Fill(p);\n",
    "}\n",
    "hist_pion -> SetLineColor(kAzure+2);\n",
    "hist_pion -> SetLineWidth(1);\n",
    "\n",
    "for (const auto &e : pt_electron){\n",
    "    hist_electron->Fill(e);\n",
    "}\n",
    "hist_electron -> SetLineColor(kOrange+2);\n",
    "hist_electron -> SetLineWidth(1);\n",
    "\n",
    "for (const auto &ph : pt_photon){\n",
    "    hist_photon->Fill(ph);\n",
    "}\n",
    "hist_photon -> SetLineColor(kRed+2);\n",
    "hist_photon -> SetLineWidth(1);\n",
    "\n",
    "for (const auto &m : pt_muon){\n",
    "    hist_muon->Fill(m);\n",
    "}\n",
    "hist_muon -> SetLineColor(kViolet+2);\n",
    "hist_muon -> SetLineWidth(1);\n",
    "\n",
    "for (const auto &h : pt_h0){\n",
    "    hist_h0->Fill(h);\n",
    "}\n",
    "hist_h0 -> SetLineColor(kGreen+2);\n",
    "hist_h0 -> SetLineWidth(1);\n",
    "\n",
    "auto legend = new TLegend(0.12,0.78,0.28,0.9); // (x1, y1, x2, y2)\n",
    "legend->SetHeader(\"Pt distributions\", \"C\"); // option \"C\" allows to center the header\n",
    "legend->AddEntry(hist_pion, \"pion\", \"f\");\n",
    "legend->AddEntry(hist_electron, \"electron\", \"f\");\n",
    "legend->AddEntry(hist_photon, \"photon\", \"f\");\n",
    "legend->AddEntry(hist_muon, \"muon\", \"f\");\n",
    "legend->AddEntry(hist_h0, \"h0\", \"f\");\n",
    "\n",
    "auto c1 = new TCanvas(\"c1\", \"c1\", 800,600);\n",
    "hist_pion->DrawNormalized();\n",
    "hist_electron->DrawNormalized(\"same\");\n",
    "hist_photon->DrawNormalized(\"same\");\n",
    "hist_muon->DrawNormalized(\"same\");\n",
    "hist_h0->DrawNormalized(\"same\");\n",
    "// c1->SetLogy();\n",
    "legend->Draw();\n",
    "c1->Draw();\n"
   ]
  },
  {
   "cell_type": "markdown",
   "metadata": {},
   "source": [
    "## eta and phi distributions\n",
    "study the eta distribution for pions having pt>20 e.g."
   ]
  },
  {
   "cell_type": "code",
   "execution_count": 48,
   "metadata": {},
   "outputs": [],
   "source": [
    "std::vector<float> pion_eta_pt_lowcut;\n",
    "std::vector<float> pion_eta_pt_highcut;\n",
    "std::vector<float> pion_phi_pt_lowcut;\n",
    "std::vector<float> pion_phi_pt_highcut;\n",
    "\n",
    "for(int ev=0; ev<pt.size(); ev++){\n",
    "    for(int i=0; i<pt[ev].size(); i++){\n",
    "        if( abs(id[ev][i]) == 211 && pt[ev][i] <= 10 ) pion_eta_pt_lowcut.push_back(eta[ev][i]);\n",
    "        if( abs(id[ev][i]) == 211 && pt[ev][i] >  10)  pion_eta_pt_highcut.push_back(eta[ev][i]);\n",
    "        if( abs(id[ev][i]) == 211 && pt[ev][i] <= 10 ) pion_phi_pt_lowcut.push_back(phi[ev][i]);\n",
    "        if( abs(id[ev][i]) == 211 && pt[ev][i] >  10)  pion_phi_pt_highcut.push_back(phi[ev][i]);\n",
    "    }\n",
    "}"
   ]
  },
  {
   "cell_type": "markdown",
   "metadata": {},
   "source": [
    "### eta"
   ]
  },
  {
   "cell_type": "code",
   "execution_count": 49,
   "metadata": {},
   "outputs": [
    {
     "data": {
      "image/png": "[encoded data removed]",
      "text/plain": [
       "<IPython.core.display.Image object>"
      ]
     },
     "metadata": {},
     "output_type": "display_data"
    },
    {
     "name": "stderr",
     "output_type": "stream",
     "text": [
      "Warning in <TCanvas::Constructor>: Deleting canvas with same name: c2\n",
      "Warning in <TROOT::Append>: Replacing existing TH1: hist (Potential memory leak).\n",
      "Warning in <TROOT::Append>: Replacing existing TH1: hist (Potential memory leak).\n"
     ]
    }
   ],
   "source": [
    "auto c2 = new TCanvas(\"c2\", \"c2\", 800,600);\n",
    "\n",
    "TH1F* hist_eta_low = new TH1F(\"hist\", \"Eta Distribution; \", 80, -4, 4); //GeV\n",
    "for (const auto &n : pion_eta_pt_lowcut){\n",
    "    hist_eta_low->Fill(n);\n",
    "}\n",
    "\n",
    "TH1F* hist_eta_high = new TH1F(\"hist\", \"Eta Distribution; \", 80, -4, 4); //GeV\n",
    "for (const auto &n : pion_eta_pt_highcut){\n",
    "    hist_eta_high->Fill(n);\n",
    "}\n",
    "\n",
    "hist_eta_low  -> SetLineColor(kOrange+8);\n",
    "hist_eta_low  -> SetLineWidth(2);\n",
    "hist_eta_high -> SetLineColor(kAzure);\n",
    "hist_eta_high -> SetLineWidth(2);\n",
    "\n",
    "auto legend = new TLegend(0.12,0.78,0.28,0.9); // (x1, y1, x2, y2)\n",
    "legend->SetHeader(\"eta distributions\", \"C\"); // option \"C\" allows to center the header\n",
    "legend->AddEntry(hist_eta_low,  \"pt<20GeV\", \"f\");\n",
    "legend->AddEntry(hist_eta_high, \"pt>20GeV\", \"f\");\n",
    "\n",
    "hist_eta_low  -> DrawNormalized();\n",
    "hist_eta_high -> DrawNormalized(\"same\");\n",
    "legend->Draw();\n",
    "c2-> Draw();"
   ]
  },
  {
   "cell_type": "markdown",
   "metadata": {},
   "source": [
    "### phi"
   ]
  },
  {
   "cell_type": "code",
   "execution_count": 42,
   "metadata": {},
   "outputs": [
    {
     "data": {
      "image/png": "[encoded data removed]",
      "text/plain": [
       "<IPython.core.display.Image object>"
      ]
     },
     "metadata": {},
     "output_type": "display_data"
    },
    {
     "name": "stderr",
     "output_type": "stream",
     "text": [
      "Warning in <TCanvas::Constructor>: Deleting canvas with same name: c2\n",
      "Warning in <TROOT::Append>: Replacing existing TH1: hist (Potential memory leak).\n",
      "Warning in <TROOT::Append>: Replacing existing TH1: hist (Potential memory leak).\n"
     ]
    }
   ],
   "source": [
    "auto c2 = new TCanvas(\"c2\", \"c2\", 800,600);\n",
    "\n",
    "TH1F* hist_phi_low = new TH1F(\"hist\", \"phi Distribution; \", 160, -6, 6); //GeV\n",
    "for (const auto &n : pion_phi_pt_lowcut){\n",
    "    hist_phi_low->Fill(n);\n",
    "}\n",
    "\n",
    "TH1F* hist_phi_high = new TH1F(\"hist\", \"phi Distribution; \", 160, -6, 6); //GeV\n",
    "for (const auto &n : pion_phi_pt_highcut){\n",
    "    hist_phi_high->Fill(n);\n",
    "}\n",
    "\n",
    "hist_phi_low  -> SetLineColor(kOrange+8);\n",
    "hist_phi_low  -> SetLineWidth(2);\n",
    "hist_phi_high -> SetLineColor(kAzure);\n",
    "hist_phi_high -> SetLineWidth(2);\n",
    "\n",
    "auto legend = new TLegend(0.12,0.78,0.28,0.9); // (x1, y1, x2, y2)\n",
    "legend->SetHeader(\"phi distributions\", \"C\"); // option \"C\" allows to center the header\n",
    "legend->AddEntry(hist_phi_low,  \"pt<20GeV\", \"f\");\n",
    "legend->AddEntry(hist_phi_high, \"pt>20GeV\", \"f\");\n",
    "\n",
    "hist_phi_high  -> DrawNormalized();\n",
    "hist_phi_low -> DrawNormalized(\"same\");\n",
    "legend->Draw();\n",
    "c2-> Draw();"
   ]
  },
  {
   "cell_type": "markdown",
   "metadata": {},
   "source": [
    "## LUT for the different particles"
   ]
  },
  {
   "cell_type": "code",
   "execution_count": null,
   "metadata": {},
   "outputs": [],
   "source": []
  }
 ],
 "metadata": {
  "kernelspec": {
   "display_name": "ROOT C++",
   "language": "c++",
   "name": "root"
  },
  "language_info": {
   "codemirror_mode": "text/x-c++src",
   "file_extension": ".C",
   "mimetype": " text/x-c++src",
   "name": "c++"
  },
  "orig_nbformat": 4
 },
 "nbformat": 4,
 "nbformat_minor": 2
}
